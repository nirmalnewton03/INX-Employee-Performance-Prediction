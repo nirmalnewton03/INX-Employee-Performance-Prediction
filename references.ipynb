{
 "cells": [
  {
   "cell_type": "markdown",
   "id": "2f8dae4b-6f8b-400b-985e-62bd190ec01d",
   "metadata": {},
   "source": [
    " ## **References**\n",
    "\n",
    "1. **Data Dictionaries and Manuals**  \n",
    "   - Employee dataset structure and feature descriptions provided by **IABAC™** as part of the Certified Data Scientist - Project module.  \n",
    "   - Documentation outlining the meanings and scales of features such as performance ratings, employee satisfaction levels, and departmental categories.\n",
    "\n",
    "2. **Explanatory Materials**  \n",
    "   - Guidelines and project scenario documentation provided by **DataMites™ Solutions Pvt Ltd**.  \n",
    "   - Detailed feature explanation and categorical mapping were referenced for preprocessing tasks.\n",
    "\n",
    "3. **Tools and Libraries**  \n",
    "   - **Python Libraries**:\n",
    "     - `Pandas`: Used for data manipulation and preprocessing.\n",
    "     - `Seaborn` and `Matplotlib`: Employed for data visualization and analysis.\n",
    "     - `scikit-learn`: Utilized for implementing machine learning models, feature selection, and SMOTE.\n",
    "   - **Jupyter Notebook**: Interactive environment for project development and documentation.\n",
    "\n",
    "4. **Machine Learning References**  \n",
    "   - Algorithm-specific documentation for LogisticRegression ,DecisionTreeClassifier,RandomForestClassifier,KNeighborsClassifier,MLPClassifier (Multi-layer Perceptron Classifier),SVC (Support Vector Classifier)from scikit-learn library.  \n",
    "   - Techniques for feature importance and handling imbalanced datasets (SMOTE) referenced from official scikit-learn documentation.\n",
    "\n",
    "5. **Correlation and Statistical Analysis**  \n",
    "   - Methods for evaluating correlation using `Pandas.corr()` and interpreting results visually through heatmaps were referenced from statistical and data visualization guidelines."
   ]
  },
  {
   "cell_type": "code",
   "execution_count": null,
   "id": "288c4715-a425-441b-9fca-63f342754246",
   "metadata": {},
   "outputs": [],
   "source": []
  }
 ],
 "metadata": {
  "kernelspec": {
   "display_name": "Python 3 (ipykernel)",
   "language": "python",
   "name": "python3"
  },
  "language_info": {
   "codemirror_mode": {
    "name": "ipython",
    "version": 3
   },
   "file_extension": ".py",
   "mimetype": "text/x-python",
   "name": "python",
   "nbconvert_exporter": "python",
   "pygments_lexer": "ipython3",
   "version": "3.11.7"
  }
 },
 "nbformat": 4,
 "nbformat_minor": 5
}
