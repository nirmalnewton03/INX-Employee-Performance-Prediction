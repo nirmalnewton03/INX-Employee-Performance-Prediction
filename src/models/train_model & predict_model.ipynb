{
 "cells": [
  {
   "cell_type": "markdown",
   "id": "66b96544-1c43-43c5-b7e3-2e5f10114df7",
   "metadata": {},
   "source": [
    "# EMPLOYEE PERFORMANCE ANALYSIS"
   ]
  },
  {
   "cell_type": "markdown",
   "id": "ad632a72-2e15-4bf0-b8b4-7e1d353ee114",
   "metadata": {},
   "source": [
    "## 1.IMPORTING LIBRARIES"
   ]
  },
  {
   "cell_type": "code",
   "execution_count": 1,
   "id": "eb084701-fd09-4c70-a5ae-dc407a1afcfa",
   "metadata": {},
   "outputs": [],
   "source": [
    "# Data analysis and manipulation\n",
    "import pandas as pd\n",
    "import numpy as np\n",
    "\n",
    "# Data visualization\n",
    "import seaborn as sns\n",
    "import matplotlib.pyplot as plt\n",
    "%matplotlib inline\n",
    "\n",
    "# Suppress warnings\n",
    "import warnings\n",
    "warnings.filterwarnings('ignore')\n",
    "\n",
    "# Over-sampling for imbalanced data\n",
    "from imblearn.over_sampling import SMOTE\n",
    "\n",
    "# Dimensionality reduction\n",
    "from sklearn.decomposition import PCA\n",
    "\n",
    "# Data splitting\n",
    "from sklearn.model_selection import train_test_split\n",
    "\n",
    "# Classification metrics\n",
    "from sklearn.metrics import accuracy_score, roc_auc_score, confusion_matrix, classification_report\n",
    "\n",
    "# Classification models\n",
    "from sklearn.linear_model import LogisticRegression\n",
    "from sklearn.tree import DecisionTreeClassifier\n",
    "from sklearn.ensemble import RandomForestClassifier\n",
    "from xgboost import XGBClassifier\n",
    "from sklearn.svm import SVC\n",
    "from sklearn.neighbors import KNeighborsClassifier\n",
    "from sklearn.naive_bayes import GaussianNB\n",
    "from sklearn.neural_network import MLPClassifier\n",
    "\n",
    "# Hyperparameter tuning\n",
    "from sklearn.model_selection import RandomizedSearchCV\n",
    "\n",
    "# ROC AUC visualization\n",
    "from yellowbrick.classifier import ROCAUC"
   ]
  },
  {
   "cell_type": "markdown",
   "id": "d4f2ae85-a4b3-4f38-972e-9b644bdf7272",
   "metadata": {},
   "source": [
    "## 2. IMPORTING DATASET"
   ]
  },
  {
   "cell_type": "code",
   "execution_count": 2,
   "id": "aa1af34f-993d-45ac-bd49-400d8b6ec484",
   "metadata": {},
   "outputs": [
    {
     "name": "stdout",
     "output_type": "stream",
     "text": [
      "SHAPE OF THE PREPROCESSED DATA: (1200, 27)\n"
     ]
    },
    {
     "data": {
      "text/html": [
       "<div>\n",
       "<style scoped>\n",
       "    .dataframe tbody tr th:only-of-type {\n",
       "        vertical-align: middle;\n",
       "    }\n",
       "\n",
       "    .dataframe tbody tr th {\n",
       "        vertical-align: top;\n",
       "    }\n",
       "\n",
       "    .dataframe thead th {\n",
       "        text-align: right;\n",
       "    }\n",
       "</style>\n",
       "<table border=\"1\" class=\"dataframe\">\n",
       "  <thead>\n",
       "    <tr style=\"text-align: right;\">\n",
       "      <th></th>\n",
       "      <th>Age</th>\n",
       "      <th>EducationBackground</th>\n",
       "      <th>MaritalStatus</th>\n",
       "      <th>EmpDepartment</th>\n",
       "      <th>EmpJobRole</th>\n",
       "      <th>BusinessTravelFrequency</th>\n",
       "      <th>DistanceFromHome</th>\n",
       "      <th>EmpEducationLevel</th>\n",
       "      <th>EmpEnvironmentSatisfaction</th>\n",
       "      <th>EmpHourlyRate</th>\n",
       "      <th>...</th>\n",
       "      <th>TrainingTimesLastYear</th>\n",
       "      <th>EmpWorkLifeBalance</th>\n",
       "      <th>ExperienceYearsAtThisCompany</th>\n",
       "      <th>ExperienceYearsInCurrentRole</th>\n",
       "      <th>YearsSinceLastPromotion</th>\n",
       "      <th>YearsWithCurrManager</th>\n",
       "      <th>Gender_Male</th>\n",
       "      <th>OverTime_Yes</th>\n",
       "      <th>Attrition_Yes</th>\n",
       "      <th>PerformanceRating</th>\n",
       "    </tr>\n",
       "  </thead>\n",
       "  <tbody>\n",
       "    <tr>\n",
       "      <th>558</th>\n",
       "      <td>-0.651548</td>\n",
       "      <td>1</td>\n",
       "      <td>1</td>\n",
       "      <td>4</td>\n",
       "      <td>7</td>\n",
       "      <td>2</td>\n",
       "      <td>-0.876745</td>\n",
       "      <td>4</td>\n",
       "      <td>2</td>\n",
       "      <td>0.149401</td>\n",
       "      <td>...</td>\n",
       "      <td>-0.688233</td>\n",
       "      <td>4</td>\n",
       "      <td>-0.337007</td>\n",
       "      <td>-0.640834</td>\n",
       "      <td>-0.778981</td>\n",
       "      <td>-0.312239</td>\n",
       "      <td>1</td>\n",
       "      <td>0</td>\n",
       "      <td>0</td>\n",
       "      <td>3</td>\n",
       "    </tr>\n",
       "    <tr>\n",
       "      <th>438</th>\n",
       "      <td>1.330067</td>\n",
       "      <td>3</td>\n",
       "      <td>1</td>\n",
       "      <td>4</td>\n",
       "      <td>7</td>\n",
       "      <td>2</td>\n",
       "      <td>-0.754394</td>\n",
       "      <td>2</td>\n",
       "      <td>3</td>\n",
       "      <td>-1.137544</td>\n",
       "      <td>...</td>\n",
       "      <td>0.286832</td>\n",
       "      <td>3</td>\n",
       "      <td>-0.706667</td>\n",
       "      <td>-0.640834</td>\n",
       "      <td>-0.374491</td>\n",
       "      <td>-0.599025</td>\n",
       "      <td>0</td>\n",
       "      <td>0</td>\n",
       "      <td>0</td>\n",
       "      <td>4</td>\n",
       "    </tr>\n",
       "    <tr>\n",
       "      <th>753</th>\n",
       "      <td>0.339260</td>\n",
       "      <td>3</td>\n",
       "      <td>1</td>\n",
       "      <td>4</td>\n",
       "      <td>12</td>\n",
       "      <td>2</td>\n",
       "      <td>-0.876745</td>\n",
       "      <td>4</td>\n",
       "      <td>3</td>\n",
       "      <td>1.584840</td>\n",
       "      <td>...</td>\n",
       "      <td>-0.688233</td>\n",
       "      <td>3</td>\n",
       "      <td>-0.337007</td>\n",
       "      <td>-0.358425</td>\n",
       "      <td>-0.778981</td>\n",
       "      <td>-0.599025</td>\n",
       "      <td>0</td>\n",
       "      <td>0</td>\n",
       "      <td>0</td>\n",
       "      <td>3</td>\n",
       "    </tr>\n",
       "    <tr>\n",
       "      <th>1023</th>\n",
       "      <td>-0.651548</td>\n",
       "      <td>0</td>\n",
       "      <td>1</td>\n",
       "      <td>3</td>\n",
       "      <td>6</td>\n",
       "      <td>2</td>\n",
       "      <td>-0.876745</td>\n",
       "      <td>3</td>\n",
       "      <td>1</td>\n",
       "      <td>-0.197084</td>\n",
       "      <td>...</td>\n",
       "      <td>-1.663298</td>\n",
       "      <td>3</td>\n",
       "      <td>-0.891498</td>\n",
       "      <td>-0.640834</td>\n",
       "      <td>-0.374491</td>\n",
       "      <td>-1.172598</td>\n",
       "      <td>1</td>\n",
       "      <td>0</td>\n",
       "      <td>0</td>\n",
       "      <td>2</td>\n",
       "    </tr>\n",
       "    <tr>\n",
       "      <th>1131</th>\n",
       "      <td>0.559439</td>\n",
       "      <td>4</td>\n",
       "      <td>1</td>\n",
       "      <td>0</td>\n",
       "      <td>1</td>\n",
       "      <td>1</td>\n",
       "      <td>-0.509693</td>\n",
       "      <td>2</td>\n",
       "      <td>2</td>\n",
       "      <td>1.535342</td>\n",
       "      <td>...</td>\n",
       "      <td>1.261897</td>\n",
       "      <td>3</td>\n",
       "      <td>-0.891498</td>\n",
       "      <td>-0.640834</td>\n",
       "      <td>0.030000</td>\n",
       "      <td>-1.172598</td>\n",
       "      <td>1</td>\n",
       "      <td>0</td>\n",
       "      <td>0</td>\n",
       "      <td>3</td>\n",
       "    </tr>\n",
       "    <tr>\n",
       "      <th>833</th>\n",
       "      <td>0.119080</td>\n",
       "      <td>3</td>\n",
       "      <td>0</td>\n",
       "      <td>1</td>\n",
       "      <td>3</td>\n",
       "      <td>0</td>\n",
       "      <td>-0.387342</td>\n",
       "      <td>3</td>\n",
       "      <td>2</td>\n",
       "      <td>0.644380</td>\n",
       "      <td>...</td>\n",
       "      <td>0.286832</td>\n",
       "      <td>3</td>\n",
       "      <td>1.141634</td>\n",
       "      <td>1.900851</td>\n",
       "      <td>-0.374491</td>\n",
       "      <td>1.408480</td>\n",
       "      <td>0</td>\n",
       "      <td>1</td>\n",
       "      <td>0</td>\n",
       "      <td>3</td>\n",
       "    </tr>\n",
       "    <tr>\n",
       "      <th>562</th>\n",
       "      <td>0.999798</td>\n",
       "      <td>1</td>\n",
       "      <td>2</td>\n",
       "      <td>4</td>\n",
       "      <td>5</td>\n",
       "      <td>2</td>\n",
       "      <td>0.469113</td>\n",
       "      <td>4</td>\n",
       "      <td>3</td>\n",
       "      <td>-1.583025</td>\n",
       "      <td>...</td>\n",
       "      <td>0.286832</td>\n",
       "      <td>3</td>\n",
       "      <td>0.587144</td>\n",
       "      <td>0.771213</td>\n",
       "      <td>-0.778981</td>\n",
       "      <td>1.408480</td>\n",
       "      <td>1</td>\n",
       "      <td>0</td>\n",
       "      <td>0</td>\n",
       "      <td>3</td>\n",
       "    </tr>\n",
       "    <tr>\n",
       "      <th>741</th>\n",
       "      <td>2.100695</td>\n",
       "      <td>5</td>\n",
       "      <td>1</td>\n",
       "      <td>4</td>\n",
       "      <td>7</td>\n",
       "      <td>2</td>\n",
       "      <td>-0.264991</td>\n",
       "      <td>2</td>\n",
       "      <td>4</td>\n",
       "      <td>0.297895</td>\n",
       "      <td>...</td>\n",
       "      <td>1.261897</td>\n",
       "      <td>1</td>\n",
       "      <td>0.587144</td>\n",
       "      <td>1.336032</td>\n",
       "      <td>2.254698</td>\n",
       "      <td>1.121693</td>\n",
       "      <td>1</td>\n",
       "      <td>0</td>\n",
       "      <td>1</td>\n",
       "      <td>2</td>\n",
       "    </tr>\n",
       "    <tr>\n",
       "      <th>857</th>\n",
       "      <td>-1.422176</td>\n",
       "      <td>1</td>\n",
       "      <td>1</td>\n",
       "      <td>1</td>\n",
       "      <td>0</td>\n",
       "      <td>2</td>\n",
       "      <td>1.080866</td>\n",
       "      <td>1</td>\n",
       "      <td>2</td>\n",
       "      <td>-0.692063</td>\n",
       "      <td>...</td>\n",
       "      <td>-0.688233</td>\n",
       "      <td>3</td>\n",
       "      <td>-0.337007</td>\n",
       "      <td>-0.358425</td>\n",
       "      <td>-0.374491</td>\n",
       "      <td>-0.599025</td>\n",
       "      <td>1</td>\n",
       "      <td>0</td>\n",
       "      <td>0</td>\n",
       "      <td>3</td>\n",
       "    </tr>\n",
       "    <tr>\n",
       "      <th>482</th>\n",
       "      <td>-0.871727</td>\n",
       "      <td>1</td>\n",
       "      <td>0</td>\n",
       "      <td>2</td>\n",
       "      <td>4</td>\n",
       "      <td>1</td>\n",
       "      <td>-0.876745</td>\n",
       "      <td>1</td>\n",
       "      <td>1</td>\n",
       "      <td>1.040363</td>\n",
       "      <td>...</td>\n",
       "      <td>-2.150831</td>\n",
       "      <td>4</td>\n",
       "      <td>-0.152177</td>\n",
       "      <td>-0.076015</td>\n",
       "      <td>-0.374491</td>\n",
       "      <td>-0.312239</td>\n",
       "      <td>1</td>\n",
       "      <td>0</td>\n",
       "      <td>0</td>\n",
       "      <td>2</td>\n",
       "    </tr>\n",
       "    <tr>\n",
       "      <th>738</th>\n",
       "      <td>-0.101099</td>\n",
       "      <td>1</td>\n",
       "      <td>0</td>\n",
       "      <td>4</td>\n",
       "      <td>10</td>\n",
       "      <td>1</td>\n",
       "      <td>-0.632043</td>\n",
       "      <td>2</td>\n",
       "      <td>4</td>\n",
       "      <td>1.535342</td>\n",
       "      <td>...</td>\n",
       "      <td>0.286832</td>\n",
       "      <td>3</td>\n",
       "      <td>-0.521837</td>\n",
       "      <td>-0.640834</td>\n",
       "      <td>-0.778981</td>\n",
       "      <td>-0.599025</td>\n",
       "      <td>0</td>\n",
       "      <td>0</td>\n",
       "      <td>0</td>\n",
       "      <td>3</td>\n",
       "    </tr>\n",
       "    <tr>\n",
       "      <th>335</th>\n",
       "      <td>-0.981817</td>\n",
       "      <td>1</td>\n",
       "      <td>1</td>\n",
       "      <td>4</td>\n",
       "      <td>9</td>\n",
       "      <td>0</td>\n",
       "      <td>-0.999095</td>\n",
       "      <td>3</td>\n",
       "      <td>3</td>\n",
       "      <td>-0.543569</td>\n",
       "      <td>...</td>\n",
       "      <td>1.749429</td>\n",
       "      <td>3</td>\n",
       "      <td>0.402314</td>\n",
       "      <td>1.053623</td>\n",
       "      <td>2.052452</td>\n",
       "      <td>0.261334</td>\n",
       "      <td>0</td>\n",
       "      <td>0</td>\n",
       "      <td>0</td>\n",
       "      <td>3</td>\n",
       "    </tr>\n",
       "  </tbody>\n",
       "</table>\n",
       "<p>12 rows × 27 columns</p>\n",
       "</div>"
      ],
      "text/plain": [
       "           Age  EducationBackground  MaritalStatus  EmpDepartment  EmpJobRole  \\\n",
       "558  -0.651548                    1              1              4           7   \n",
       "438   1.330067                    3              1              4           7   \n",
       "753   0.339260                    3              1              4          12   \n",
       "1023 -0.651548                    0              1              3           6   \n",
       "1131  0.559439                    4              1              0           1   \n",
       "833   0.119080                    3              0              1           3   \n",
       "562   0.999798                    1              2              4           5   \n",
       "741   2.100695                    5              1              4           7   \n",
       "857  -1.422176                    1              1              1           0   \n",
       "482  -0.871727                    1              0              2           4   \n",
       "738  -0.101099                    1              0              4          10   \n",
       "335  -0.981817                    1              1              4           9   \n",
       "\n",
       "      BusinessTravelFrequency  DistanceFromHome  EmpEducationLevel  \\\n",
       "558                         2         -0.876745                  4   \n",
       "438                         2         -0.754394                  2   \n",
       "753                         2         -0.876745                  4   \n",
       "1023                        2         -0.876745                  3   \n",
       "1131                        1         -0.509693                  2   \n",
       "833                         0         -0.387342                  3   \n",
       "562                         2          0.469113                  4   \n",
       "741                         2         -0.264991                  2   \n",
       "857                         2          1.080866                  1   \n",
       "482                         1         -0.876745                  1   \n",
       "738                         1         -0.632043                  2   \n",
       "335                         0         -0.999095                  3   \n",
       "\n",
       "      EmpEnvironmentSatisfaction  EmpHourlyRate  ...  TrainingTimesLastYear  \\\n",
       "558                            2       0.149401  ...              -0.688233   \n",
       "438                            3      -1.137544  ...               0.286832   \n",
       "753                            3       1.584840  ...              -0.688233   \n",
       "1023                           1      -0.197084  ...              -1.663298   \n",
       "1131                           2       1.535342  ...               1.261897   \n",
       "833                            2       0.644380  ...               0.286832   \n",
       "562                            3      -1.583025  ...               0.286832   \n",
       "741                            4       0.297895  ...               1.261897   \n",
       "857                            2      -0.692063  ...              -0.688233   \n",
       "482                            1       1.040363  ...              -2.150831   \n",
       "738                            4       1.535342  ...               0.286832   \n",
       "335                            3      -0.543569  ...               1.749429   \n",
       "\n",
       "      EmpWorkLifeBalance  ExperienceYearsAtThisCompany  \\\n",
       "558                    4                     -0.337007   \n",
       "438                    3                     -0.706667   \n",
       "753                    3                     -0.337007   \n",
       "1023                   3                     -0.891498   \n",
       "1131                   3                     -0.891498   \n",
       "833                    3                      1.141634   \n",
       "562                    3                      0.587144   \n",
       "741                    1                      0.587144   \n",
       "857                    3                     -0.337007   \n",
       "482                    4                     -0.152177   \n",
       "738                    3                     -0.521837   \n",
       "335                    3                      0.402314   \n",
       "\n",
       "      ExperienceYearsInCurrentRole  YearsSinceLastPromotion  \\\n",
       "558                      -0.640834                -0.778981   \n",
       "438                      -0.640834                -0.374491   \n",
       "753                      -0.358425                -0.778981   \n",
       "1023                     -0.640834                -0.374491   \n",
       "1131                     -0.640834                 0.030000   \n",
       "833                       1.900851                -0.374491   \n",
       "562                       0.771213                -0.778981   \n",
       "741                       1.336032                 2.254698   \n",
       "857                      -0.358425                -0.374491   \n",
       "482                      -0.076015                -0.374491   \n",
       "738                      -0.640834                -0.778981   \n",
       "335                       1.053623                 2.052452   \n",
       "\n",
       "      YearsWithCurrManager  Gender_Male  OverTime_Yes  Attrition_Yes  \\\n",
       "558              -0.312239            1             0              0   \n",
       "438              -0.599025            0             0              0   \n",
       "753              -0.599025            0             0              0   \n",
       "1023             -1.172598            1             0              0   \n",
       "1131             -1.172598            1             0              0   \n",
       "833               1.408480            0             1              0   \n",
       "562               1.408480            1             0              0   \n",
       "741               1.121693            1             0              1   \n",
       "857              -0.599025            1             0              0   \n",
       "482              -0.312239            1             0              0   \n",
       "738              -0.599025            0             0              0   \n",
       "335               0.261334            0             0              0   \n",
       "\n",
       "      PerformanceRating  \n",
       "558                   3  \n",
       "438                   4  \n",
       "753                   3  \n",
       "1023                  2  \n",
       "1131                  3  \n",
       "833                   3  \n",
       "562                   3  \n",
       "741                   2  \n",
       "857                   3  \n",
       "482                   2  \n",
       "738                   3  \n",
       "335                   3  \n",
       "\n",
       "[12 rows x 27 columns]"
      ]
     },
     "execution_count": 2,
     "metadata": {},
     "output_type": "execute_result"
    }
   ],
   "source": [
    "data=pd.read_csv('preprocessed_dataset.csv')\n",
    "print('SHAPE OF THE PREPROCESSED DATA:',data.shape)\n",
    "data.sample(12)\n"
   ]
  },
  {
   "cell_type": "markdown",
   "id": "557317cc-555a-49d8-b646-3f5acca29e69",
   "metadata": {},
   "source": [
    "## 3. DATA SPLITTING"
   ]
  },
  {
   "cell_type": "code",
   "execution_count": 3,
   "id": "8b26c1ab-113a-4c3c-bdff-6042b476df31",
   "metadata": {},
   "outputs": [],
   "source": [
    "#independent features\n",
    "x=data.iloc[:,:-1]\n",
    "\n",
    "#dependent feature\n",
    "y=data['PerformanceRating']"
   ]
  },
  {
   "cell_type": "code",
   "execution_count": 4,
   "id": "9792d01c-3318-4aab-b418-897b7f931e10",
   "metadata": {},
   "outputs": [],
   "source": [
    "x_train, x_test, y_train, y_test = train_test_split(x, y, test_size=0.2, random_state=42)"
   ]
  },
  {
   "cell_type": "markdown",
   "id": "76833cf6-3b5e-49b6-b016-af2293989d1b",
   "metadata": {},
   "source": [
    "## 4. SYNTHETIC MINORITY OVERSAMPLING TECHNIQUE"
   ]
  },
  {
   "cell_type": "code",
   "execution_count": 5,
   "id": "f051546e-ef0e-457b-b3a4-c0447b52ebf3",
   "metadata": {},
   "outputs": [],
   "source": [
    "smote= SMOTE(random_state=42)\n",
    "x_train_smote,y_train_smote=smote.fit_resample(x_train,y_train)"
   ]
  },
  {
   "cell_type": "code",
   "execution_count": 6,
   "id": "e14b1ab7-9201-4c19-a360-bc3213df6f12",
   "metadata": {},
   "outputs": [
    {
     "name": "stdout",
     "output_type": "stream",
     "text": [
      "Class distribution before SMOTE: Counter({3: 690, 2: 165, 4: 105})\n",
      "Class distribution after SMOTE: Counter({2: 690, 3: 690, 4: 690})\n"
     ]
    }
   ],
   "source": [
    "from collections import Counter\n",
    "\n",
    "print(\"Class distribution before SMOTE:\", Counter(y_train)) \n",
    "print(\"Class distribution after SMOTE:\", Counter(y_train_smote))"
   ]
  },
  {
   "cell_type": "markdown",
   "id": "3d133ba4-dd97-4dc8-99b2-ef44833d5827",
   "metadata": {},
   "source": [
    "## 5. MODEL CREATION"
   ]
  },
  {
   "cell_type": "markdown",
   "id": "c1ef28a9-e0b6-42f1-8db7-f2ad08842e04",
   "metadata": {},
   "source": [
    "#### 5.1. LOGISTIC REGRESSION"
   ]
  },
  {
   "cell_type": "code",
   "execution_count": 7,
   "id": "0d002f3c-cb2a-4f2c-93b9-f0b162e6f34f",
   "metadata": {},
   "outputs": [],
   "source": [
    "#initializing the model\n",
    "log_model=LogisticRegression(multi_class='multinomial')\n",
    "\n",
    "#fitting the training data to the model\n",
    "log_model.fit(x_train_smote,y_train_smote)\n",
    "\n",
    "#predicting the target for the testing data\n",
    "log_pred=log_model.predict(x_test)"
   ]
  },
  {
   "cell_type": "code",
   "execution_count": 8,
   "id": "6c9fc47e-5a9a-4b6e-ac6e-af49a080871c",
   "metadata": {},
   "outputs": [
    {
     "name": "stdout",
     "output_type": "stream",
     "text": [
      "Test Accuracy: 0.7291666666666666\n",
      "              precision    recall  f1-score   support\n",
      "\n",
      "           2       0.41      0.55      0.47        29\n",
      "           3       0.89      0.76      0.82       184\n",
      "           4       0.44      0.74      0.56        27\n",
      "\n",
      "    accuracy                           0.73       240\n",
      "   macro avg       0.58      0.68      0.61       240\n",
      "weighted avg       0.78      0.73      0.75       240\n",
      "\n"
     ]
    }
   ],
   "source": [
    "#evaluating the model's performance\n",
    "log_accuracy = accuracy_score(y_test, log_pred)\n",
    "print(f\"Test Accuracy: {log_accuracy}\")\n",
    "print(classification_report(y_test,log_pred))"
   ]
  },
  {
   "cell_type": "code",
   "execution_count": 9,
   "id": "d37e4d75-7fbe-4814-a91e-0defc7baac91",
   "metadata": {},
   "outputs": [
    {
     "data": {
      "text/plain": [
       "<Axes: >"
      ]
     },
     "execution_count": 9,
     "metadata": {},
     "output_type": "execute_result"
    },
    {
     "data": {
      "image/png": "[encoded data removed]",
      "text/plain": [
       "<Figure size 800x550 with 2 Axes>"
      ]
     },
     "metadata": {},
     "output_type": "display_data"
    }
   ],
   "source": [
    "cm=confusion_matrix(y_test,log_pred)\n",
    "sns.heatmap(cm,annot=True,fmt='g')"
   ]
  },
  {
   "cell_type": "markdown",
   "id": "8091a16b-ddc4-48be-9e60-2fbf5e753fc9",
   "metadata": {},
   "source": [
    "#### 5.2. DECISION TREE"
   ]
  },
  {
   "cell_type": "code",
   "execution_count": 10,
   "id": "ae8b4ff5-092a-4af0-8190-f4549112bfbc",
   "metadata": {},
   "outputs": [],
   "source": [
    "dec_model=DecisionTreeClassifier()\n",
    "dec_model.fit(x_train_smote,y_train_smote)\n",
    "dec_pred=dec_model.predict(x_test)"
   ]
  },
  {
   "cell_type": "code",
   "execution_count": 11,
   "id": "1f0a0b3d-5b01-4ab4-a582-8c57e844162d",
   "metadata": {},
   "outputs": [
    {
     "name": "stdout",
     "output_type": "stream",
     "text": [
      "Test Accuracy: 0.8833333333333333\n"
     ]
    }
   ],
   "source": [
    "#evaluating the model's performance\n",
    "dec_accuracy = accuracy_score(y_test, dec_pred)\n",
    "print(f\"Test Accuracy: {dec_accuracy}\")"
   ]
  },
  {
   "cell_type": "markdown",
   "id": "653a0997-a2dd-4e57-83e4-30853146bd71",
   "metadata": {},
   "source": [
    "#### 5.2.1. Hyperparameter Tuning"
   ]
  },
  {
   "cell_type": "code",
   "execution_count": 12,
   "id": "5432d5f5-348e-4a26-b89a-5d4be9b25959",
   "metadata": {},
   "outputs": [],
   "source": [
    "#creating a dictionary with best parameters\n",
    "params={'criterion':('gini','entropy'),\n",
    "        'splitter':('best','random'),\n",
    "        'max_depth':(list(range(1,10))),\n",
    "        'min_samples_split':[1,2,3,4,5,6],\n",
    "        'min_samples_leaf':(list(range(1,10)))}"
   ]
  },
  {
   "cell_type": "code",
   "execution_count": 13,
   "id": "af4d15fe-9ffc-4726-9ff7-130693ac96a0",
   "metadata": {},
   "outputs": [],
   "source": [
    "#initializing the model\n",
    "dec_hpt_model=DecisionTreeClassifier()"
   ]
  },
  {
   "cell_type": "code",
   "execution_count": 14,
   "id": "f156a4e8-a879-4cdd-a0ce-a481fab03e62",
   "metadata": {},
   "outputs": [],
   "source": [
    "#initializing RandomizedSearchCV\n",
    "dec_cv=RandomizedSearchCV(estimator=dec_hpt_model,\n",
    "                   param_distributions=params,\n",
    "                   scoring='accuracy',\n",
    "                   n_jobs=-1,\n",
    "                   verbose=3,\n",
    "                   cv=5\n",
    "                  )"
   ]
  },
  {
   "cell_type": "code",
   "execution_count": 15,
   "id": "5d5a89ef-55b6-49c6-b25f-87c76330e0d5",
   "metadata": {},
   "outputs": [
    {
     "name": "stdout",
     "output_type": "stream",
     "text": [
      "Fitting 5 folds for each of 10 candidates, totalling 50 fits\n"
     ]
    },
    {
     "data": {
      "text/html": [
       "<style>#sk-container-id-1 {color: black;background-color: white;}#sk-container-id-1 pre{padding: 0;}#sk-container-id-1 div.sk-toggleable {background-color: white;}#sk-container-id-1 label.sk-toggleable__label {cursor: pointer;display: block;width: 100%;margin-bottom: 0;padding: 0.3em;box-sizing: border-box;text-align: center;}#sk-container-id-1 label.sk-toggleable__label-arrow:before {content: \"▸\";float: left;margin-right: 0.25em;color: #696969;}#sk-container-id-1 label.sk-toggleable__label-arrow:hover:before {color: black;}#sk-container-id-1 div.sk-estimator:hover label.sk-toggleable__label-arrow:before {color: black;}#sk-container-id-1 div.sk-toggleable__content {max-height: 0;max-width: 0;overflow: hidden;text-align: left;background-color: #f0f8ff;}#sk-container-id-1 div.sk-toggleable__content pre {margin: 0.2em;color: black;border-radius: 0.25em;background-color: #f0f8ff;}#sk-container-id-1 input.sk-toggleable__control:checked~div.sk-toggleable__content {max-height: 200px;max-width: 100%;overflow: auto;}#sk-container-id-1 input.sk-toggleable__control:checked~label.sk-toggleable__label-arrow:before {content: \"▾\";}#sk-container-id-1 div.sk-estimator input.sk-toggleable__control:checked~label.sk-toggleable__label {background-color: #d4ebff;}#sk-container-id-1 div.sk-label input.sk-toggleable__control:checked~label.sk-toggleable__label {background-color: #d4ebff;}#sk-container-id-1 input.sk-hidden--visually {border: 0;clip: rect(1px 1px 1px 1px);clip: rect(1px, 1px, 1px, 1px);height: 1px;margin: -1px;overflow: hidden;padding: 0;position: absolute;width: 1px;}#sk-container-id-1 div.sk-estimator {font-family: monospace;background-color: #f0f8ff;border: 1px dotted black;border-radius: 0.25em;box-sizing: border-box;margin-bottom: 0.5em;}#sk-container-id-1 div.sk-estimator:hover {background-color: #d4ebff;}#sk-container-id-1 div.sk-parallel-item::after {content: \"\";width: 100%;border-bottom: 1px solid gray;flex-grow: 1;}#sk-container-id-1 div.sk-label:hover label.sk-toggleable__label {background-color: #d4ebff;}#sk-container-id-1 div.sk-serial::before {content: \"\";position: absolute;border-left: 1px solid gray;box-sizing: border-box;top: 0;bottom: 0;left: 50%;z-index: 0;}#sk-container-id-1 div.sk-serial {display: flex;flex-direction: column;align-items: center;background-color: white;padding-right: 0.2em;padding-left: 0.2em;position: relative;}#sk-container-id-1 div.sk-item {position: relative;z-index: 1;}#sk-container-id-1 div.sk-parallel {display: flex;align-items: stretch;justify-content: center;background-color: white;position: relative;}#sk-container-id-1 div.sk-item::before, #sk-container-id-1 div.sk-parallel-item::before {content: \"\";position: absolute;border-left: 1px solid gray;box-sizing: border-box;top: 0;bottom: 0;left: 50%;z-index: -1;}#sk-container-id-1 div.sk-parallel-item {display: flex;flex-direction: column;z-index: 1;position: relative;background-color: white;}#sk-container-id-1 div.sk-parallel-item:first-child::after {align-self: flex-end;width: 50%;}#sk-container-id-1 div.sk-parallel-item:last-child::after {align-self: flex-start;width: 50%;}#sk-container-id-1 div.sk-parallel-item:only-child::after {width: 0;}#sk-container-id-1 div.sk-dashed-wrapped {border: 1px dashed gray;margin: 0 0.4em 0.5em 0.4em;box-sizing: border-box;padding-bottom: 0.4em;background-color: white;}#sk-container-id-1 div.sk-label label {font-family: monospace;font-weight: bold;display: inline-block;line-height: 1.2em;}#sk-container-id-1 div.sk-label-container {text-align: center;}#sk-container-id-1 div.sk-container {/* jupyter's `normalize.less` sets `[hidden] { display: none; }` but bootstrap.min.css set `[hidden] { display: none !important; }` so we also need the `!important` here to be able to override the default hidden behavior on the sphinx rendered scikit-learn.org. See: https://github.com/scikit-learn/scikit-learn/issues/21755 */display: inline-block !important;position: relative;}#sk-container-id-1 div.sk-text-repr-fallback {display: none;}</style><div id=\"sk-container-id-1\" class=\"sk-top-container\"><div class=\"sk-text-repr-fallback\"><pre>RandomizedSearchCV(cv=5, estimator=DecisionTreeClassifier(), n_jobs=-1,\n",
       "                   param_distributions={&#x27;criterion&#x27;: (&#x27;gini&#x27;, &#x27;entropy&#x27;),\n",
       "                                        &#x27;max_depth&#x27;: [1, 2, 3, 4, 5, 6, 7, 8,\n",
       "                                                      9],\n",
       "                                        &#x27;min_samples_leaf&#x27;: [1, 2, 3, 4, 5, 6,\n",
       "                                                             7, 8, 9],\n",
       "                                        &#x27;min_samples_split&#x27;: [1, 2, 3, 4, 5, 6],\n",
       "                                        &#x27;splitter&#x27;: (&#x27;best&#x27;, &#x27;random&#x27;)},\n",
       "                   scoring=&#x27;accuracy&#x27;, verbose=3)</pre><b>In a Jupyter environment, please rerun this cell to show the HTML representation or trust the notebook. <br />On GitHub, the HTML representation is unable to render, please try loading this page with nbviewer.org.</b></div><div class=\"sk-container\" hidden><div class=\"sk-item sk-dashed-wrapped\"><div class=\"sk-label-container\"><div class=\"sk-label sk-toggleable\"><input class=\"sk-toggleable__control sk-hidden--visually\" id=\"sk-estimator-id-1\" type=\"checkbox\" ><label for=\"sk-estimator-id-1\" class=\"sk-toggleable__label sk-toggleable__label-arrow\">RandomizedSearchCV</label><div class=\"sk-toggleable__content\"><pre>RandomizedSearchCV(cv=5, estimator=DecisionTreeClassifier(), n_jobs=-1,\n",
       "                   param_distributions={&#x27;criterion&#x27;: (&#x27;gini&#x27;, &#x27;entropy&#x27;),\n",
       "                                        &#x27;max_depth&#x27;: [1, 2, 3, 4, 5, 6, 7, 8,\n",
       "                                                      9],\n",
       "                                        &#x27;min_samples_leaf&#x27;: [1, 2, 3, 4, 5, 6,\n",
       "                                                             7, 8, 9],\n",
       "                                        &#x27;min_samples_split&#x27;: [1, 2, 3, 4, 5, 6],\n",
       "                                        &#x27;splitter&#x27;: (&#x27;best&#x27;, &#x27;random&#x27;)},\n",
       "                   scoring=&#x27;accuracy&#x27;, verbose=3)</pre></div></div></div><div class=\"sk-parallel\"><div class=\"sk-parallel-item\"><div class=\"sk-item\"><div class=\"sk-label-container\"><div class=\"sk-label sk-toggleable\"><input class=\"sk-toggleable__control sk-hidden--visually\" id=\"sk-estimator-id-2\" type=\"checkbox\" ><label for=\"sk-estimator-id-2\" class=\"sk-toggleable__label sk-toggleable__label-arrow\">estimator: DecisionTreeClassifier</label><div class=\"sk-toggleable__content\"><pre>DecisionTreeClassifier()</pre></div></div></div><div class=\"sk-serial\"><div class=\"sk-item\"><div class=\"sk-estimator sk-toggleable\"><input class=\"sk-toggleable__control sk-hidden--visually\" id=\"sk-estimator-id-3\" type=\"checkbox\" ><label for=\"sk-estimator-id-3\" class=\"sk-toggleable__label sk-toggleable__label-arrow\">DecisionTreeClassifier</label><div class=\"sk-toggleable__content\"><pre>DecisionTreeClassifier()</pre></div></div></div></div></div></div></div></div></div></div>"
      ],
      "text/plain": [
       "RandomizedSearchCV(cv=5, estimator=DecisionTreeClassifier(), n_jobs=-1,\n",
       "                   param_distributions={'criterion': ('gini', 'entropy'),\n",
       "                                        'max_depth': [1, 2, 3, 4, 5, 6, 7, 8,\n",
       "                                                      9],\n",
       "                                        'min_samples_leaf': [1, 2, 3, 4, 5, 6,\n",
       "                                                             7, 8, 9],\n",
       "                                        'min_samples_split': [1, 2, 3, 4, 5, 6],\n",
       "                                        'splitter': ('best', 'random')},\n",
       "                   scoring='accuracy', verbose=3)"
      ]
     },
     "execution_count": 15,
     "metadata": {},
     "output_type": "execute_result"
    }
   ],
   "source": [
    "#fitting the training data to the RandomizedSearchCV\n",
    "dec_cv.fit(x_train_smote,y_train_smote)"
   ]
  },
  {
   "cell_type": "code",
   "execution_count": 16,
   "id": "7a944885-338c-4456-9cce-46b7391aaf43",
   "metadata": {},
   "outputs": [
    {
     "name": "stdout",
     "output_type": "stream",
     "text": [
      "Best_Params:{'splitter': 'best', 'min_samples_split': 2, 'min_samples_leaf': 4, 'max_depth': 9, 'criterion': 'entropy'}\n"
     ]
    }
   ],
   "source": [
    "#getting best hyperparameters\n",
    "print(f'Best_Params:{dec_cv.best_params_}')"
   ]
  },
  {
   "cell_type": "code",
   "execution_count": 17,
   "id": "e61e215f-5cd9-4dbf-841f-02b1990561f1",
   "metadata": {},
   "outputs": [
    {
     "name": "stdout",
     "output_type": "stream",
     "text": [
      "Test Accuracy: 0.8916666666666667\n",
      "              precision    recall  f1-score   support\n",
      "\n",
      "           2       0.73      0.93      0.82        29\n",
      "           3       0.94      0.91      0.93       184\n",
      "           4       0.76      0.70      0.73        27\n",
      "\n",
      "    accuracy                           0.89       240\n",
      "   macro avg       0.81      0.85      0.83       240\n",
      "weighted avg       0.90      0.89      0.89       240\n",
      "\n"
     ]
    }
   ],
   "source": [
    "# fitting the data\n",
    "best_dec = dec_cv.best_estimator_\n",
    "dec_hp_pred = best_dec.predict(x_test)\n",
    "\n",
    "# Evaluating the model's performance\n",
    "dec_hp_accuracy = accuracy_score(y_test, dec_hp_pred)\n",
    "print(f\"Test Accuracy: {dec_hp_accuracy}\")\n",
    "print(classification_report(y_test,dec_hp_pred))"
   ]
  },
  {
   "cell_type": "code",
   "execution_count": 18,
   "id": "a0cfa267-5f92-40bb-9d7f-9dc4d5ac0c53",
   "metadata": {},
   "outputs": [
    {
     "data": {
      "text/plain": [
       "<Axes: >"
      ]
     },
     "execution_count": 18,
     "metadata": {},
     "output_type": "execute_result"
    },
    {
     "data": {
      "image/png": "[encoded data removed]",
      "text/plain": [
       "<Figure size 800x550 with 2 Axes>"
      ]
     },
     "metadata": {},
     "output_type": "display_data"
    }
   ],
   "source": [
    "dec_cm=confusion_matrix(y_test,dec_hp_pred)\n",
    "sns.heatmap(dec_cm,annot=True)"
   ]
  },
  {
   "cell_type": "markdown",
   "id": "71e9bed5-c820-4bf7-918f-785c2edeba17",
   "metadata": {},
   "source": [
    "#### 5.3. RANDOM FOREST"
   ]
  },
  {
   "cell_type": "code",
   "execution_count": 19,
   "id": "604ea827-f59b-48e8-9457-1d542c067f74",
   "metadata": {},
   "outputs": [],
   "source": [
    "RF_model=RandomForestClassifier()\n",
    "RF_model.fit(x_train_smote,y_train_smote)\n",
    "RF_pred=RF_model.predict(x_test)"
   ]
  },
  {
   "cell_type": "code",
   "execution_count": 20,
   "id": "76009375-2e63-471b-82ca-9cdf54ffa7c9",
   "metadata": {},
   "outputs": [
    {
     "name": "stdout",
     "output_type": "stream",
     "text": [
      "Test Accuracy: 0.925\n"
     ]
    }
   ],
   "source": [
    "RF_accuracy = accuracy_score(y_test, RF_pred)\n",
    "print(f\"Test Accuracy: {RF_accuracy}\")"
   ]
  },
  {
   "cell_type": "markdown",
   "id": "49f33286-7376-4a92-ba07-e07869adee7f",
   "metadata": {},
   "source": [
    "#### 5.3.1. Hyperparameter Tuning"
   ]
  },
  {
   "cell_type": "code",
   "execution_count": 21,
   "id": "be178cd5-7148-47bf-b2ad-25df49103c6a",
   "metadata": {},
   "outputs": [],
   "source": [
    "params={'n_estimators':[100,200,300],\n",
    "        'max_features':['auto','log2','sqrt'],\n",
    "        'max_depth':list(range(1,11)),\n",
    "        'min_samples_split':list(range(1,11)),\n",
    "        'min_samples_leaf':[1,2,3,4,5]\n",
    "       }"
   ]
  },
  {
   "cell_type": "code",
   "execution_count": 22,
   "id": "426d90bf-2b87-4288-9eef-7a1bd3e296da",
   "metadata": {},
   "outputs": [],
   "source": [
    "RF_hpt_model=RandomForestClassifier()\n",
    "RF_CV=RandomizedSearchCV(estimator=RF_hpt_model,\n",
    "                   param_distributions=params,\n",
    "                   scoring='accuracy',\n",
    "                   cv=3,\n",
    "                   verbose=3,\n",
    "                   n_jobs=-1\n",
    "                  )\n"
   ]
  },
  {
   "cell_type": "code",
   "execution_count": 23,
   "id": "95b2eec5-ee7e-41e3-9af6-55f46b515aff",
   "metadata": {},
   "outputs": [
    {
     "name": "stdout",
     "output_type": "stream",
     "text": [
      "Fitting 3 folds for each of 10 candidates, totalling 30 fits\n"
     ]
    },
    {
     "data": {
      "text/html": [
       "<style>#sk-container-id-2 {color: black;background-color: white;}#sk-container-id-2 pre{padding: 0;}#sk-container-id-2 div.sk-toggleable {background-color: white;}#sk-container-id-2 label.sk-toggleable__label {cursor: pointer;display: block;width: 100%;margin-bottom: 0;padding: 0.3em;box-sizing: border-box;text-align: center;}#sk-container-id-2 label.sk-toggleable__label-arrow:before {content: \"▸\";float: left;margin-right: 0.25em;color: #696969;}#sk-container-id-2 label.sk-toggleable__label-arrow:hover:before {color: black;}#sk-container-id-2 div.sk-estimator:hover label.sk-toggleable__label-arrow:before {color: black;}#sk-container-id-2 div.sk-toggleable__content {max-height: 0;max-width: 0;overflow: hidden;text-align: left;background-color: #f0f8ff;}#sk-container-id-2 div.sk-toggleable__content pre {margin: 0.2em;color: black;border-radius: 0.25em;background-color: #f0f8ff;}#sk-container-id-2 input.sk-toggleable__control:checked~div.sk-toggleable__content {max-height: 200px;max-width: 100%;overflow: auto;}#sk-container-id-2 input.sk-toggleable__control:checked~label.sk-toggleable__label-arrow:before {content: \"▾\";}#sk-container-id-2 div.sk-estimator input.sk-toggleable__control:checked~label.sk-toggleable__label {background-color: #d4ebff;}#sk-container-id-2 div.sk-label input.sk-toggleable__control:checked~label.sk-toggleable__label {background-color: #d4ebff;}#sk-container-id-2 input.sk-hidden--visually {border: 0;clip: rect(1px 1px 1px 1px);clip: rect(1px, 1px, 1px, 1px);height: 1px;margin: -1px;overflow: hidden;padding: 0;position: absolute;width: 1px;}#sk-container-id-2 div.sk-estimator {font-family: monospace;background-color: #f0f8ff;border: 1px dotted black;border-radius: 0.25em;box-sizing: border-box;margin-bottom: 0.5em;}#sk-container-id-2 div.sk-estimator:hover {background-color: #d4ebff;}#sk-container-id-2 div.sk-parallel-item::after {content: \"\";width: 100%;border-bottom: 1px solid gray;flex-grow: 1;}#sk-container-id-2 div.sk-label:hover label.sk-toggleable__label {background-color: #d4ebff;}#sk-container-id-2 div.sk-serial::before {content: \"\";position: absolute;border-left: 1px solid gray;box-sizing: border-box;top: 0;bottom: 0;left: 50%;z-index: 0;}#sk-container-id-2 div.sk-serial {display: flex;flex-direction: column;align-items: center;background-color: white;padding-right: 0.2em;padding-left: 0.2em;position: relative;}#sk-container-id-2 div.sk-item {position: relative;z-index: 1;}#sk-container-id-2 div.sk-parallel {display: flex;align-items: stretch;justify-content: center;background-color: white;position: relative;}#sk-container-id-2 div.sk-item::before, #sk-container-id-2 div.sk-parallel-item::before {content: \"\";position: absolute;border-left: 1px solid gray;box-sizing: border-box;top: 0;bottom: 0;left: 50%;z-index: -1;}#sk-container-id-2 div.sk-parallel-item {display: flex;flex-direction: column;z-index: 1;position: relative;background-color: white;}#sk-container-id-2 div.sk-parallel-item:first-child::after {align-self: flex-end;width: 50%;}#sk-container-id-2 div.sk-parallel-item:last-child::after {align-self: flex-start;width: 50%;}#sk-container-id-2 div.sk-parallel-item:only-child::after {width: 0;}#sk-container-id-2 div.sk-dashed-wrapped {border: 1px dashed gray;margin: 0 0.4em 0.5em 0.4em;box-sizing: border-box;padding-bottom: 0.4em;background-color: white;}#sk-container-id-2 div.sk-label label {font-family: monospace;font-weight: bold;display: inline-block;line-height: 1.2em;}#sk-container-id-2 div.sk-label-container {text-align: center;}#sk-container-id-2 div.sk-container {/* jupyter's `normalize.less` sets `[hidden] { display: none; }` but bootstrap.min.css set `[hidden] { display: none !important; }` so we also need the `!important` here to be able to override the default hidden behavior on the sphinx rendered scikit-learn.org. See: https://github.com/scikit-learn/scikit-learn/issues/21755 */display: inline-block !important;position: relative;}#sk-container-id-2 div.sk-text-repr-fallback {display: none;}</style><div id=\"sk-container-id-2\" class=\"sk-top-container\"><div class=\"sk-text-repr-fallback\"><pre>RandomizedSearchCV(cv=3, estimator=RandomForestClassifier(), n_jobs=-1,\n",
       "                   param_distributions={&#x27;max_depth&#x27;: [1, 2, 3, 4, 5, 6, 7, 8, 9,\n",
       "                                                      10],\n",
       "                                        &#x27;max_features&#x27;: [&#x27;auto&#x27;, &#x27;log2&#x27;,\n",
       "                                                         &#x27;sqrt&#x27;],\n",
       "                                        &#x27;min_samples_leaf&#x27;: [1, 2, 3, 4, 5],\n",
       "                                        &#x27;min_samples_split&#x27;: [1, 2, 3, 4, 5, 6,\n",
       "                                                              7, 8, 9, 10],\n",
       "                                        &#x27;n_estimators&#x27;: [100, 200, 300]},\n",
       "                   scoring=&#x27;accuracy&#x27;, verbose=3)</pre><b>In a Jupyter environment, please rerun this cell to show the HTML representation or trust the notebook. <br />On GitHub, the HTML representation is unable to render, please try loading this page with nbviewer.org.</b></div><div class=\"sk-container\" hidden><div class=\"sk-item sk-dashed-wrapped\"><div class=\"sk-label-container\"><div class=\"sk-label sk-toggleable\"><input class=\"sk-toggleable__control sk-hidden--visually\" id=\"sk-estimator-id-4\" type=\"checkbox\" ><label for=\"sk-estimator-id-4\" class=\"sk-toggleable__label sk-toggleable__label-arrow\">RandomizedSearchCV</label><div class=\"sk-toggleable__content\"><pre>RandomizedSearchCV(cv=3, estimator=RandomForestClassifier(), n_jobs=-1,\n",
       "                   param_distributions={&#x27;max_depth&#x27;: [1, 2, 3, 4, 5, 6, 7, 8, 9,\n",
       "                                                      10],\n",
       "                                        &#x27;max_features&#x27;: [&#x27;auto&#x27;, &#x27;log2&#x27;,\n",
       "                                                         &#x27;sqrt&#x27;],\n",
       "                                        &#x27;min_samples_leaf&#x27;: [1, 2, 3, 4, 5],\n",
       "                                        &#x27;min_samples_split&#x27;: [1, 2, 3, 4, 5, 6,\n",
       "                                                              7, 8, 9, 10],\n",
       "                                        &#x27;n_estimators&#x27;: [100, 200, 300]},\n",
       "                   scoring=&#x27;accuracy&#x27;, verbose=3)</pre></div></div></div><div class=\"sk-parallel\"><div class=\"sk-parallel-item\"><div class=\"sk-item\"><div class=\"sk-label-container\"><div class=\"sk-label sk-toggleable\"><input class=\"sk-toggleable__control sk-hidden--visually\" id=\"sk-estimator-id-5\" type=\"checkbox\" ><label for=\"sk-estimator-id-5\" class=\"sk-toggleable__label sk-toggleable__label-arrow\">estimator: RandomForestClassifier</label><div class=\"sk-toggleable__content\"><pre>RandomForestClassifier()</pre></div></div></div><div class=\"sk-serial\"><div class=\"sk-item\"><div class=\"sk-estimator sk-toggleable\"><input class=\"sk-toggleable__control sk-hidden--visually\" id=\"sk-estimator-id-6\" type=\"checkbox\" ><label for=\"sk-estimator-id-6\" class=\"sk-toggleable__label sk-toggleable__label-arrow\">RandomForestClassifier</label><div class=\"sk-toggleable__content\"><pre>RandomForestClassifier()</pre></div></div></div></div></div></div></div></div></div></div>"
      ],
      "text/plain": [
       "RandomizedSearchCV(cv=3, estimator=RandomForestClassifier(), n_jobs=-1,\n",
       "                   param_distributions={'max_depth': [1, 2, 3, 4, 5, 6, 7, 8, 9,\n",
       "                                                      10],\n",
       "                                        'max_features': ['auto', 'log2',\n",
       "                                                         'sqrt'],\n",
       "                                        'min_samples_leaf': [1, 2, 3, 4, 5],\n",
       "                                        'min_samples_split': [1, 2, 3, 4, 5, 6,\n",
       "                                                              7, 8, 9, 10],\n",
       "                                        'n_estimators': [100, 200, 300]},\n",
       "                   scoring='accuracy', verbose=3)"
      ]
     },
     "execution_count": 23,
     "metadata": {},
     "output_type": "execute_result"
    }
   ],
   "source": [
    "RF_CV.fit(x_train_smote,y_train_smote)"
   ]
  },
  {
   "cell_type": "code",
   "execution_count": 24,
   "id": "f40849e1-c239-4419-84fb-03a4a004e6ae",
   "metadata": {},
   "outputs": [
    {
     "name": "stdout",
     "output_type": "stream",
     "text": [
      "Best_Params:{'n_estimators': 300, 'min_samples_split': 8, 'min_samples_leaf': 5, 'max_features': 'log2', 'max_depth': 10}\n"
     ]
    }
   ],
   "source": [
    "print(f'Best_Params:{RF_CV.best_params_}')"
   ]
  },
  {
   "cell_type": "code",
   "execution_count": 25,
   "id": "516d2b7d-33c2-43c0-a5a8-208b0178d519",
   "metadata": {},
   "outputs": [
    {
     "name": "stdout",
     "output_type": "stream",
     "text": [
      "Test Accuracy: 0.9208333333333333\n",
      "              precision    recall  f1-score   support\n",
      "\n",
      "           2       0.87      0.90      0.88        29\n",
      "           3       0.95      0.95      0.95       184\n",
      "           4       0.80      0.74      0.77        27\n",
      "\n",
      "    accuracy                           0.92       240\n",
      "   macro avg       0.87      0.86      0.87       240\n",
      "weighted avg       0.92      0.92      0.92       240\n",
      "\n"
     ]
    }
   ],
   "source": [
    "best_RF = RF_CV.best_estimator_\n",
    "RF_hp_pred = best_RF.predict(x_test)\n",
    "RF_hp_accuracy = accuracy_score(y_test, RF_hp_pred)\n",
    "print(f\"Test Accuracy: {RF_hp_accuracy}\")\n",
    "print(classification_report(y_test,RF_hp_pred))"
   ]
  },
  {
   "cell_type": "code",
   "execution_count": 26,
   "id": "28f6ceb4-0eb3-432b-9553-ece4a7ba1dcd",
   "metadata": {},
   "outputs": [
    {
     "data": {
      "text/plain": [
       "<Axes: >"
      ]
     },
     "execution_count": 26,
     "metadata": {},
     "output_type": "execute_result"
    },
    {
     "data": {
      "image/png": "[encoded data removed]",
      "text/plain": [
       "<Figure size 800x550 with 2 Axes>"
      ]
     },
     "metadata": {},
     "output_type": "display_data"
    }
   ],
   "source": [
    "RF_cm=confusion_matrix(y_test,RF_hp_pred)\n",
    "sns.heatmap(RF_cm,annot=True,fmt='g')"
   ]
  },
  {
   "cell_type": "markdown",
   "id": "dd35ba9e-eff3-4c1c-9c36-028717c5281a",
   "metadata": {},
   "source": [
    "#### 5.4. NAIVE BAYES"
   ]
  },
  {
   "cell_type": "code",
   "execution_count": 27,
   "id": "bebd3f40-5822-4018-9c25-dd641070f619",
   "metadata": {},
   "outputs": [],
   "source": [
    "NB_model=GaussianNB()\n",
    "NB_model.fit(x_train_smote,y_train_smote)\n",
    "NB_pred=NB_model.predict(x_test)"
   ]
  },
  {
   "cell_type": "code",
   "execution_count": 28,
   "id": "8a0cd751-66a1-4aef-b1da-d962519df0b9",
   "metadata": {},
   "outputs": [
    {
     "name": "stdout",
     "output_type": "stream",
     "text": [
      "Test Accuracy: 0.7083333333333334\n"
     ]
    }
   ],
   "source": [
    "NB_accuracy = accuracy_score(y_test,NB_pred)\n",
    "print(f\"Test Accuracy: {NB_accuracy}\")"
   ]
  },
  {
   "cell_type": "markdown",
   "id": "24c42e0f-193e-4cdc-a619-93d586c15c65",
   "metadata": {},
   "source": [
    "#### 5.4.1.Hyperparameter Tuning"
   ]
  },
  {
   "cell_type": "code",
   "execution_count": 29,
   "id": "da2d012a-31b1-4dae-833f-518a2b1ff688",
   "metadata": {},
   "outputs": [],
   "source": [
    "param_grid = {'var_smoothing': np.logspace(-12, -2, 100)}\n",
    "NB = GaussianNB()"
   ]
  },
  {
   "cell_type": "code",
   "execution_count": 30,
   "id": "8692a16e-189e-41eb-b940-44f87df873cf",
   "metadata": {},
   "outputs": [
    {
     "name": "stdout",
     "output_type": "stream",
     "text": [
      "Fitting 5 folds for each of 10 candidates, totalling 50 fits\n",
      "Best Parameters: {'var_smoothing': 1.2915496650148827e-11}\n"
     ]
    }
   ],
   "source": [
    "NB_search = RandomizedSearchCV(estimator=NB, param_distributions=param_grid, cv=5, scoring='accuracy', verbose=1, n_jobs=-1)\n",
    "NB_search.fit(x_train_smote, y_train_smote)\n",
    "print(f\"Best Parameters: {NB_search.best_params_}\")"
   ]
  },
  {
   "cell_type": "code",
   "execution_count": 31,
   "id": "bfddb420-4cb4-4420-9f98-5a0cecf9008c",
   "metadata": {},
   "outputs": [
    {
     "name": "stdout",
     "output_type": "stream",
     "text": [
      "Test Accuracy: 0.7083333333333334\n",
      "              precision    recall  f1-score   support\n",
      "\n",
      "           2       0.42      0.52      0.46        29\n",
      "           3       0.86      0.76      0.80       184\n",
      "           4       0.38      0.59      0.46        27\n",
      "\n",
      "    accuracy                           0.71       240\n",
      "   macro avg       0.55      0.62      0.58       240\n",
      "weighted avg       0.75      0.71      0.72       240\n",
      "\n"
     ]
    }
   ],
   "source": [
    "best_NB = NB_search.best_estimator_\n",
    "NB_y_pred = best_NB.predict(x_test)\n",
    "NB_hp_accuracy = accuracy_score(y_test, NB_y_pred)\n",
    "print(f\"Test Accuracy: {NB_hp_accuracy}\")\n",
    "print(classification_report(y_test,NB_y_pred))"
   ]
  },
  {
   "cell_type": "code",
   "execution_count": 32,
   "id": "6f26cec9-f3be-41c3-847c-8041ea5dbe5a",
   "metadata": {},
   "outputs": [
    {
     "data": {
      "text/plain": [
       "<Axes: >"
      ]
     },
     "execution_count": 32,
     "metadata": {},
     "output_type": "execute_result"
    },
    {
     "data": {
      "image/png": "[encoded data removed]",
      "text/plain": [
       "<Figure size 800x550 with 2 Axes>"
      ]
     },
     "metadata": {},
     "output_type": "display_data"
    }
   ],
   "source": [
    "NB_cm=confusion_matrix(y_test,NB_y_pred)\n",
    "sns.heatmap(NB_cm,annot=True,fmt='g')"
   ]
  },
  {
   "cell_type": "markdown",
   "id": "fae28900-f242-4fa1-a91f-e04ae3c80365",
   "metadata": {},
   "source": [
    "#### 5.5.K NEAREST NEIGHBOR"
   ]
  },
  {
   "cell_type": "code",
   "execution_count": 33,
   "id": "5dcdb100-4d9b-4d49-8a60-380f05f3f346",
   "metadata": {},
   "outputs": [],
   "source": [
    "KNN_model=KNeighborsClassifier()\n",
    "KNN_model.fit(x_train_smote,y_train_smote)\n",
    "KNN_pred=KNN_model.predict(x_test)"
   ]
  },
  {
   "cell_type": "code",
   "execution_count": 34,
   "id": "2d46ec31-05ae-4f19-be63-605991cffdc0",
   "metadata": {},
   "outputs": [
    {
     "name": "stdout",
     "output_type": "stream",
     "text": [
      "Test Accuracy: 0.5791666666666667\n"
     ]
    }
   ],
   "source": [
    "KNN_accuracy = accuracy_score(y_test, KNN_pred)\n",
    "print(f\"Test Accuracy: {KNN_accuracy}\")"
   ]
  },
  {
   "cell_type": "markdown",
   "id": "d1b92ad2-0536-4b72-91bb-51eacb443044",
   "metadata": {},
   "source": [
    "#### 5.5.1. Hyperparameter Tuning"
   ]
  },
  {
   "cell_type": "code",
   "execution_count": 35,
   "id": "51b5a8ab-da11-43f4-ae98-2c267767044b",
   "metadata": {},
   "outputs": [],
   "source": [
    "param_grid = {\n",
    "    'n_neighbors': list(range(1, 31)),\n",
    "    'weights': ['uniform', 'distance'],\n",
    "    'metric': ['euclidean', 'manhattan', 'minkowski']\n",
    "}\n",
    "KNN= KNeighborsClassifier()"
   ]
  },
  {
   "cell_type": "code",
   "execution_count": 36,
   "id": "0d318607-8e81-4a35-9009-ed7181d1abb1",
   "metadata": {},
   "outputs": [
    {
     "name": "stdout",
     "output_type": "stream",
     "text": [
      "Fitting 5 folds for each of 10 candidates, totalling 50 fits\n"
     ]
    },
    {
     "data": {
      "text/html": [
       "<style>#sk-container-id-3 {color: black;background-color: white;}#sk-container-id-3 pre{padding: 0;}#sk-container-id-3 div.sk-toggleable {background-color: white;}#sk-container-id-3 label.sk-toggleable__label {cursor: pointer;display: block;width: 100%;margin-bottom: 0;padding: 0.3em;box-sizing: border-box;text-align: center;}#sk-container-id-3 label.sk-toggleable__label-arrow:before {content: \"▸\";float: left;margin-right: 0.25em;color: #696969;}#sk-container-id-3 label.sk-toggleable__label-arrow:hover:before {color: black;}#sk-container-id-3 div.sk-estimator:hover label.sk-toggleable__label-arrow:before {color: black;}#sk-container-id-3 div.sk-toggleable__content {max-height: 0;max-width: 0;overflow: hidden;text-align: left;background-color: #f0f8ff;}#sk-container-id-3 div.sk-toggleable__content pre {margin: 0.2em;color: black;border-radius: 0.25em;background-color: #f0f8ff;}#sk-container-id-3 input.sk-toggleable__control:checked~div.sk-toggleable__content {max-height: 200px;max-width: 100%;overflow: auto;}#sk-container-id-3 input.sk-toggleable__control:checked~label.sk-toggleable__label-arrow:before {content: \"▾\";}#sk-container-id-3 div.sk-estimator input.sk-toggleable__control:checked~label.sk-toggleable__label {background-color: #d4ebff;}#sk-container-id-3 div.sk-label input.sk-toggleable__control:checked~label.sk-toggleable__label {background-color: #d4ebff;}#sk-container-id-3 input.sk-hidden--visually {border: 0;clip: rect(1px 1px 1px 1px);clip: rect(1px, 1px, 1px, 1px);height: 1px;margin: -1px;overflow: hidden;padding: 0;position: absolute;width: 1px;}#sk-container-id-3 div.sk-estimator {font-family: monospace;background-color: #f0f8ff;border: 1px dotted black;border-radius: 0.25em;box-sizing: border-box;margin-bottom: 0.5em;}#sk-container-id-3 div.sk-estimator:hover {background-color: #d4ebff;}#sk-container-id-3 div.sk-parallel-item::after {content: \"\";width: 100%;border-bottom: 1px solid gray;flex-grow: 1;}#sk-container-id-3 div.sk-label:hover label.sk-toggleable__label {background-color: #d4ebff;}#sk-container-id-3 div.sk-serial::before {content: \"\";position: absolute;border-left: 1px solid gray;box-sizing: border-box;top: 0;bottom: 0;left: 50%;z-index: 0;}#sk-container-id-3 div.sk-serial {display: flex;flex-direction: column;align-items: center;background-color: white;padding-right: 0.2em;padding-left: 0.2em;position: relative;}#sk-container-id-3 div.sk-item {position: relative;z-index: 1;}#sk-container-id-3 div.sk-parallel {display: flex;align-items: stretch;justify-content: center;background-color: white;position: relative;}#sk-container-id-3 div.sk-item::before, #sk-container-id-3 div.sk-parallel-item::before {content: \"\";position: absolute;border-left: 1px solid gray;box-sizing: border-box;top: 0;bottom: 0;left: 50%;z-index: -1;}#sk-container-id-3 div.sk-parallel-item {display: flex;flex-direction: column;z-index: 1;position: relative;background-color: white;}#sk-container-id-3 div.sk-parallel-item:first-child::after {align-self: flex-end;width: 50%;}#sk-container-id-3 div.sk-parallel-item:last-child::after {align-self: flex-start;width: 50%;}#sk-container-id-3 div.sk-parallel-item:only-child::after {width: 0;}#sk-container-id-3 div.sk-dashed-wrapped {border: 1px dashed gray;margin: 0 0.4em 0.5em 0.4em;box-sizing: border-box;padding-bottom: 0.4em;background-color: white;}#sk-container-id-3 div.sk-label label {font-family: monospace;font-weight: bold;display: inline-block;line-height: 1.2em;}#sk-container-id-3 div.sk-label-container {text-align: center;}#sk-container-id-3 div.sk-container {/* jupyter's `normalize.less` sets `[hidden] { display: none; }` but bootstrap.min.css set `[hidden] { display: none !important; }` so we also need the `!important` here to be able to override the default hidden behavior on the sphinx rendered scikit-learn.org. See: https://github.com/scikit-learn/scikit-learn/issues/21755 */display: inline-block !important;position: relative;}#sk-container-id-3 div.sk-text-repr-fallback {display: none;}</style><div id=\"sk-container-id-3\" class=\"sk-top-container\"><div class=\"sk-text-repr-fallback\"><pre>RandomizedSearchCV(cv=5, estimator=KNeighborsClassifier(), n_jobs=-1,\n",
       "                   param_distributions={&#x27;metric&#x27;: [&#x27;euclidean&#x27;, &#x27;manhattan&#x27;,\n",
       "                                                   &#x27;minkowski&#x27;],\n",
       "                                        &#x27;n_neighbors&#x27;: [1, 2, 3, 4, 5, 6, 7, 8,\n",
       "                                                        9, 10, 11, 12, 13, 14,\n",
       "                                                        15, 16, 17, 18, 19, 20,\n",
       "                                                        21, 22, 23, 24, 25, 26,\n",
       "                                                        27, 28, 29, 30],\n",
       "                                        &#x27;weights&#x27;: [&#x27;uniform&#x27;, &#x27;distance&#x27;]},\n",
       "                   scoring=&#x27;accuracy&#x27;, verbose=1)</pre><b>In a Jupyter environment, please rerun this cell to show the HTML representation or trust the notebook. <br />On GitHub, the HTML representation is unable to render, please try loading this page with nbviewer.org.</b></div><div class=\"sk-container\" hidden><div class=\"sk-item sk-dashed-wrapped\"><div class=\"sk-label-container\"><div class=\"sk-label sk-toggleable\"><input class=\"sk-toggleable__control sk-hidden--visually\" id=\"sk-estimator-id-7\" type=\"checkbox\" ><label for=\"sk-estimator-id-7\" class=\"sk-toggleable__label sk-toggleable__label-arrow\">RandomizedSearchCV</label><div class=\"sk-toggleable__content\"><pre>RandomizedSearchCV(cv=5, estimator=KNeighborsClassifier(), n_jobs=-1,\n",
       "                   param_distributions={&#x27;metric&#x27;: [&#x27;euclidean&#x27;, &#x27;manhattan&#x27;,\n",
       "                                                   &#x27;minkowski&#x27;],\n",
       "                                        &#x27;n_neighbors&#x27;: [1, 2, 3, 4, 5, 6, 7, 8,\n",
       "                                                        9, 10, 11, 12, 13, 14,\n",
       "                                                        15, 16, 17, 18, 19, 20,\n",
       "                                                        21, 22, 23, 24, 25, 26,\n",
       "                                                        27, 28, 29, 30],\n",
       "                                        &#x27;weights&#x27;: [&#x27;uniform&#x27;, &#x27;distance&#x27;]},\n",
       "                   scoring=&#x27;accuracy&#x27;, verbose=1)</pre></div></div></div><div class=\"sk-parallel\"><div class=\"sk-parallel-item\"><div class=\"sk-item\"><div class=\"sk-label-container\"><div class=\"sk-label sk-toggleable\"><input class=\"sk-toggleable__control sk-hidden--visually\" id=\"sk-estimator-id-8\" type=\"checkbox\" ><label for=\"sk-estimator-id-8\" class=\"sk-toggleable__label sk-toggleable__label-arrow\">estimator: KNeighborsClassifier</label><div class=\"sk-toggleable__content\"><pre>KNeighborsClassifier()</pre></div></div></div><div class=\"sk-serial\"><div class=\"sk-item\"><div class=\"sk-estimator sk-toggleable\"><input class=\"sk-toggleable__control sk-hidden--visually\" id=\"sk-estimator-id-9\" type=\"checkbox\" ><label for=\"sk-estimator-id-9\" class=\"sk-toggleable__label sk-toggleable__label-arrow\">KNeighborsClassifier</label><div class=\"sk-toggleable__content\"><pre>KNeighborsClassifier()</pre></div></div></div></div></div></div></div></div></div></div>"
      ],
      "text/plain": [
       "RandomizedSearchCV(cv=5, estimator=KNeighborsClassifier(), n_jobs=-1,\n",
       "                   param_distributions={'metric': ['euclidean', 'manhattan',\n",
       "                                                   'minkowski'],\n",
       "                                        'n_neighbors': [1, 2, 3, 4, 5, 6, 7, 8,\n",
       "                                                        9, 10, 11, 12, 13, 14,\n",
       "                                                        15, 16, 17, 18, 19, 20,\n",
       "                                                        21, 22, 23, 24, 25, 26,\n",
       "                                                        27, 28, 29, 30],\n",
       "                                        'weights': ['uniform', 'distance']},\n",
       "                   scoring='accuracy', verbose=1)"
      ]
     },
     "execution_count": 36,
     "metadata": {},
     "output_type": "execute_result"
    }
   ],
   "source": [
    "KNN_cv = RandomizedSearchCV(estimator=KNN, param_distributions=param_grid, cv=5, scoring='accuracy', verbose=1, n_jobs=-1)\n",
    "KNN_cv.fit(x_train_smote, y_train_smote)"
   ]
  },
  {
   "cell_type": "code",
   "execution_count": 37,
   "id": "580dddbe-d51e-42a0-bfb5-5015269266ae",
   "metadata": {},
   "outputs": [
    {
     "name": "stdout",
     "output_type": "stream",
     "text": [
      "Best Parameters: {'weights': 'uniform', 'n_neighbors': 1, 'metric': 'manhattan'}\n"
     ]
    }
   ],
   "source": [
    "print(f\"Best Parameters: {KNN_cv.best_params_}\")"
   ]
  },
  {
   "cell_type": "code",
   "execution_count": 38,
   "id": "4057a1dc-9753-4b8a-868b-aa138a34983b",
   "metadata": {},
   "outputs": [
    {
     "name": "stdout",
     "output_type": "stream",
     "text": [
      "Test Accuracy: 0.6625\n",
      "              precision    recall  f1-score   support\n",
      "\n",
      "           2       0.36      0.55      0.44        29\n",
      "           3       0.88      0.70      0.78       184\n",
      "           4       0.29      0.52      0.37        27\n",
      "\n",
      "    accuracy                           0.66       240\n",
      "   macro avg       0.51      0.59      0.53       240\n",
      "weighted avg       0.75      0.66      0.69       240\n",
      "\n"
     ]
    }
   ],
   "source": [
    "best_KNN = KNN_cv.best_estimator_\n",
    "KNN_hp_pred = best_KNN.predict(x_test)\n",
    "KNN_hp_accuracy = accuracy_score(y_test, KNN_hp_pred)\n",
    "print(f\"Test Accuracy: {KNN_hp_accuracy}\")\n",
    "print(classification_report(y_test,KNN_hp_pred))"
   ]
  },
  {
   "cell_type": "code",
   "execution_count": 39,
   "id": "c3012ec2-094e-44b3-8319-500ba179e035",
   "metadata": {},
   "outputs": [
    {
     "data": {
      "text/plain": [
       "<Axes: >"
      ]
     },
     "execution_count": 39,
     "metadata": {},
     "output_type": "execute_result"
    },
    {
     "data": {
      "image/png": "[encoded data removed]",
      "text/plain": [
       "<Figure size 800x550 with 2 Axes>"
      ]
     },
     "metadata": {},
     "output_type": "display_data"
    }
   ],
   "source": [
    "KNN_cm=confusion_matrix(y_test,KNN_hp_pred)\n",
    "sns.heatmap(KNN_cm,annot=True,fmt='g')"
   ]
  },
  {
   "cell_type": "markdown",
   "id": "5140401a-bd0c-45bb-bcae-e2f5499cf4b0",
   "metadata": {},
   "source": [
    "#### 5.6 SUPPORT VECTOR CLASSIFIER"
   ]
  },
  {
   "cell_type": "code",
   "execution_count": 68,
   "id": "da423c12-2c7e-4d81-b6f5-4207c0725d9b",
   "metadata": {},
   "outputs": [],
   "source": [
    "svc_model=SVC()\n",
    "svc_model.fit(x_train_smote,y_train_smote)\n",
    "svc_pred=svc_model.predict(x_test)"
   ]
  },
  {
   "cell_type": "code",
   "execution_count": 69,
   "id": "fa0d573e-d0a8-40d1-916c-d70a97ef5a95",
   "metadata": {},
   "outputs": [
    {
     "name": "stdout",
     "output_type": "stream",
     "text": [
      "Test Accuracy: 0.7583333333333333\n"
     ]
    }
   ],
   "source": [
    "svc_accuracy = accuracy_score(y_test, svc_pred)\n",
    "print(f\"Test Accuracy: {svc_accuracy}\")"
   ]
  },
  {
   "cell_type": "markdown",
   "id": "9be344ab-a046-412a-9497-733f1c4bbd67",
   "metadata": {},
   "source": [
    "#### 5.6.1.Hyperparameter Tuning"
   ]
  },
  {
   "cell_type": "code",
   "execution_count": 70,
   "id": "c24580a8-f261-4d07-af8b-8811fa5ebd9a",
   "metadata": {},
   "outputs": [],
   "source": [
    "params={'kernel':['linear','rbf'],\n",
    "        'degree':[1,2,3,4,5],\n",
    "        'gamma':['scale', 'auto'],\n",
    "        'C':[0.01,0.1, 1, 10, 100]\n",
    "        }"
   ]
  },
  {
   "cell_type": "code",
   "execution_count": 71,
   "id": "a8ae7bad-8758-4d65-a79c-01a0bfb76c7e",
   "metadata": {},
   "outputs": [],
   "source": [
    "svc_hpt_model=SVC()"
   ]
  },
  {
   "cell_type": "code",
   "execution_count": 72,
   "id": "06dc695d-4514-470d-8a90-f82cee51acf9",
   "metadata": {},
   "outputs": [],
   "source": [
    "svc_cv=RandomizedSearchCV(estimator=svc_hpt_model,\n",
    "                    param_distributions=params,\n",
    "                    scoring='accuracy',\n",
    "                    cv=5,verbose=3,\n",
    "                    n_jobs=-1)"
   ]
  },
  {
   "cell_type": "code",
   "execution_count": 73,
   "id": "a2ea8bbb-7b99-4354-9aa7-e9aeea0fbcdf",
   "metadata": {},
   "outputs": [
    {
     "name": "stdout",
     "output_type": "stream",
     "text": [
      "Fitting 5 folds for each of 10 candidates, totalling 50 fits\n"
     ]
    },
    {
     "data": {
      "text/html": [
       "<style>#sk-container-id-7 {color: black;background-color: white;}#sk-container-id-7 pre{padding: 0;}#sk-container-id-7 div.sk-toggleable {background-color: white;}#sk-container-id-7 label.sk-toggleable__label {cursor: pointer;display: block;width: 100%;margin-bottom: 0;padding: 0.3em;box-sizing: border-box;text-align: center;}#sk-container-id-7 label.sk-toggleable__label-arrow:before {content: \"▸\";float: left;margin-right: 0.25em;color: #696969;}#sk-container-id-7 label.sk-toggleable__label-arrow:hover:before {color: black;}#sk-container-id-7 div.sk-estimator:hover label.sk-toggleable__label-arrow:before {color: black;}#sk-container-id-7 div.sk-toggleable__content {max-height: 0;max-width: 0;overflow: hidden;text-align: left;background-color: #f0f8ff;}#sk-container-id-7 div.sk-toggleable__content pre {margin: 0.2em;color: black;border-radius: 0.25em;background-color: #f0f8ff;}#sk-container-id-7 input.sk-toggleable__control:checked~div.sk-toggleable__content {max-height: 200px;max-width: 100%;overflow: auto;}#sk-container-id-7 input.sk-toggleable__control:checked~label.sk-toggleable__label-arrow:before {content: \"▾\";}#sk-container-id-7 div.sk-estimator input.sk-toggleable__control:checked~label.sk-toggleable__label {background-color: #d4ebff;}#sk-container-id-7 div.sk-label input.sk-toggleable__control:checked~label.sk-toggleable__label {background-color: #d4ebff;}#sk-container-id-7 input.sk-hidden--visually {border: 0;clip: rect(1px 1px 1px 1px);clip: rect(1px, 1px, 1px, 1px);height: 1px;margin: -1px;overflow: hidden;padding: 0;position: absolute;width: 1px;}#sk-container-id-7 div.sk-estimator {font-family: monospace;background-color: #f0f8ff;border: 1px dotted black;border-radius: 0.25em;box-sizing: border-box;margin-bottom: 0.5em;}#sk-container-id-7 div.sk-estimator:hover {background-color: #d4ebff;}#sk-container-id-7 div.sk-parallel-item::after {content: \"\";width: 100%;border-bottom: 1px solid gray;flex-grow: 1;}#sk-container-id-7 div.sk-label:hover label.sk-toggleable__label {background-color: #d4ebff;}#sk-container-id-7 div.sk-serial::before {content: \"\";position: absolute;border-left: 1px solid gray;box-sizing: border-box;top: 0;bottom: 0;left: 50%;z-index: 0;}#sk-container-id-7 div.sk-serial {display: flex;flex-direction: column;align-items: center;background-color: white;padding-right: 0.2em;padding-left: 0.2em;position: relative;}#sk-container-id-7 div.sk-item {position: relative;z-index: 1;}#sk-container-id-7 div.sk-parallel {display: flex;align-items: stretch;justify-content: center;background-color: white;position: relative;}#sk-container-id-7 div.sk-item::before, #sk-container-id-7 div.sk-parallel-item::before {content: \"\";position: absolute;border-left: 1px solid gray;box-sizing: border-box;top: 0;bottom: 0;left: 50%;z-index: -1;}#sk-container-id-7 div.sk-parallel-item {display: flex;flex-direction: column;z-index: 1;position: relative;background-color: white;}#sk-container-id-7 div.sk-parallel-item:first-child::after {align-self: flex-end;width: 50%;}#sk-container-id-7 div.sk-parallel-item:last-child::after {align-self: flex-start;width: 50%;}#sk-container-id-7 div.sk-parallel-item:only-child::after {width: 0;}#sk-container-id-7 div.sk-dashed-wrapped {border: 1px dashed gray;margin: 0 0.4em 0.5em 0.4em;box-sizing: border-box;padding-bottom: 0.4em;background-color: white;}#sk-container-id-7 div.sk-label label {font-family: monospace;font-weight: bold;display: inline-block;line-height: 1.2em;}#sk-container-id-7 div.sk-label-container {text-align: center;}#sk-container-id-7 div.sk-container {/* jupyter's `normalize.less` sets `[hidden] { display: none; }` but bootstrap.min.css set `[hidden] { display: none !important; }` so we also need the `!important` here to be able to override the default hidden behavior on the sphinx rendered scikit-learn.org. See: https://github.com/scikit-learn/scikit-learn/issues/21755 */display: inline-block !important;position: relative;}#sk-container-id-7 div.sk-text-repr-fallback {display: none;}</style><div id=\"sk-container-id-7\" class=\"sk-top-container\"><div class=\"sk-text-repr-fallback\"><pre>RandomizedSearchCV(cv=5, estimator=SVC(), n_jobs=-1,\n",
       "                   param_distributions={&#x27;C&#x27;: [0.01, 0.1, 1, 10, 100],\n",
       "                                        &#x27;degree&#x27;: [1, 2, 3, 4, 5],\n",
       "                                        &#x27;gamma&#x27;: [&#x27;scale&#x27;, &#x27;auto&#x27;],\n",
       "                                        &#x27;kernel&#x27;: [&#x27;linear&#x27;, &#x27;rbf&#x27;]},\n",
       "                   scoring=&#x27;accuracy&#x27;, verbose=3)</pre><b>In a Jupyter environment, please rerun this cell to show the HTML representation or trust the notebook. <br />On GitHub, the HTML representation is unable to render, please try loading this page with nbviewer.org.</b></div><div class=\"sk-container\" hidden><div class=\"sk-item sk-dashed-wrapped\"><div class=\"sk-label-container\"><div class=\"sk-label sk-toggleable\"><input class=\"sk-toggleable__control sk-hidden--visually\" id=\"sk-estimator-id-19\" type=\"checkbox\" ><label for=\"sk-estimator-id-19\" class=\"sk-toggleable__label sk-toggleable__label-arrow\">RandomizedSearchCV</label><div class=\"sk-toggleable__content\"><pre>RandomizedSearchCV(cv=5, estimator=SVC(), n_jobs=-1,\n",
       "                   param_distributions={&#x27;C&#x27;: [0.01, 0.1, 1, 10, 100],\n",
       "                                        &#x27;degree&#x27;: [1, 2, 3, 4, 5],\n",
       "                                        &#x27;gamma&#x27;: [&#x27;scale&#x27;, &#x27;auto&#x27;],\n",
       "                                        &#x27;kernel&#x27;: [&#x27;linear&#x27;, &#x27;rbf&#x27;]},\n",
       "                   scoring=&#x27;accuracy&#x27;, verbose=3)</pre></div></div></div><div class=\"sk-parallel\"><div class=\"sk-parallel-item\"><div class=\"sk-item\"><div class=\"sk-label-container\"><div class=\"sk-label sk-toggleable\"><input class=\"sk-toggleable__control sk-hidden--visually\" id=\"sk-estimator-id-20\" type=\"checkbox\" ><label for=\"sk-estimator-id-20\" class=\"sk-toggleable__label sk-toggleable__label-arrow\">estimator: SVC</label><div class=\"sk-toggleable__content\"><pre>SVC()</pre></div></div></div><div class=\"sk-serial\"><div class=\"sk-item\"><div class=\"sk-estimator sk-toggleable\"><input class=\"sk-toggleable__control sk-hidden--visually\" id=\"sk-estimator-id-21\" type=\"checkbox\" ><label for=\"sk-estimator-id-21\" class=\"sk-toggleable__label sk-toggleable__label-arrow\">SVC</label><div class=\"sk-toggleable__content\"><pre>SVC()</pre></div></div></div></div></div></div></div></div></div></div>"
      ],
      "text/plain": [
       "RandomizedSearchCV(cv=5, estimator=SVC(), n_jobs=-1,\n",
       "                   param_distributions={'C': [0.01, 0.1, 1, 10, 100],\n",
       "                                        'degree': [1, 2, 3, 4, 5],\n",
       "                                        'gamma': ['scale', 'auto'],\n",
       "                                        'kernel': ['linear', 'rbf']},\n",
       "                   scoring='accuracy', verbose=3)"
      ]
     },
     "execution_count": 73,
     "metadata": {},
     "output_type": "execute_result"
    }
   ],
   "source": [
    "svc_cv.fit(x_train_smote,y_train_smote)"
   ]
  },
  {
   "cell_type": "code",
   "execution_count": 74,
   "id": "92163dc3-441e-4455-a9ec-2a05aea88ac5",
   "metadata": {},
   "outputs": [
    {
     "name": "stdout",
     "output_type": "stream",
     "text": [
      "Best Parameters:{'kernel': 'rbf', 'gamma': 'auto', 'degree': 3, 'C': 1}\n"
     ]
    }
   ],
   "source": [
    "print(f'Best Parameters:{svc_cv.best_params_}')"
   ]
  },
  {
   "cell_type": "code",
   "execution_count": 75,
   "id": "d15a6256-dac2-40bc-b285-94ec145e6178",
   "metadata": {},
   "outputs": [
    {
     "name": "stdout",
     "output_type": "stream",
     "text": [
      "Test Accuracy: 0.8375\n"
     ]
    }
   ],
   "source": [
    "best_svc = svc_cv.best_estimator_\n",
    "svc_hp_pred = best_svc.predict(x_test)\n",
    "svc_hp_accuracy = accuracy_score(y_test, svc_hp_pred)\n",
    "print(f\"Test Accuracy: {svc_hp_accuracy}\")"
   ]
  },
  {
   "cell_type": "code",
   "execution_count": 48,
   "id": "16dd7939-ab55-4f23-8744-399091df6655",
   "metadata": {},
   "outputs": [
    {
     "name": "stdout",
     "output_type": "stream",
     "text": [
      "              precision    recall  f1-score   support\n",
      "\n",
      "           2       0.65      0.59      0.62        29\n",
      "           3       0.88      0.91      0.90       184\n",
      "           4       0.62      0.56      0.59        27\n",
      "\n",
      "    accuracy                           0.83       240\n",
      "   macro avg       0.72      0.68      0.70       240\n",
      "weighted avg       0.83      0.83      0.83       240\n",
      "\n"
     ]
    }
   ],
   "source": [
    "print(classification_report(y_test,svc_hp_pred))"
   ]
  },
  {
   "cell_type": "code",
   "execution_count": 49,
   "id": "6d684437-ab39-4b6b-addd-39e1917cee86",
   "metadata": {},
   "outputs": [
    {
     "data": {
      "text/plain": [
       "<Axes: >"
      ]
     },
     "execution_count": 49,
     "metadata": {},
     "output_type": "execute_result"
    },
    {
     "data": {
      "image/png": "[encoded data removed]",
      "text/plain": [
       "<Figure size 800x550 with 2 Axes>"
      ]
     },
     "metadata": {},
     "output_type": "display_data"
    }
   ],
   "source": [
    "svc_cm=confusion_matrix(y_test,svc_hp_pred)\n",
    "sns.heatmap(svc_cm,annot=True,fmt='g')"
   ]
  },
  {
   "cell_type": "markdown",
   "id": "7c707682-b03b-445d-9d2f-029309f5c196",
   "metadata": {},
   "source": [
    "#### 5.7.ARTIFICIAL NEURAL NETWORK"
   ]
  },
  {
   "cell_type": "code",
   "execution_count": 50,
   "id": "b5ca2ac8-861a-41c3-9136-8416d859972f",
   "metadata": {},
   "outputs": [],
   "source": [
    "ANN_model=MLPClassifier()\n",
    "ANN_model.fit(x_train_smote,y_train_smote)\n",
    "ANN_pred=ANN_model.predict(x_test)"
   ]
  },
  {
   "cell_type": "code",
   "execution_count": 51,
   "id": "2c3762e7-15d7-4422-971d-c69da177bc14",
   "metadata": {},
   "outputs": [
    {
     "name": "stdout",
     "output_type": "stream",
     "text": [
      "Test Accuracy: 0.7875\n"
     ]
    }
   ],
   "source": [
    "ANN_accuracy = accuracy_score(y_test, ANN_pred)\n",
    "print(f\"Test Accuracy: {ANN_accuracy}\")"
   ]
  },
  {
   "cell_type": "markdown",
   "id": "b231abaf-621a-40cc-9db4-7fabb3d27e6c",
   "metadata": {},
   "source": [
    "#### 5.7.1.Hyperparameter Tuning"
   ]
  },
  {
   "cell_type": "code",
   "execution_count": 52,
   "id": "ffdf6b21-5932-4706-9e4c-a9b9f54f7f3c",
   "metadata": {},
   "outputs": [],
   "source": [
    "ANN_hpt_model = MLPClassifier(max_iter=500)\n",
    "\n",
    "\n",
    "param_grid = {\n",
    "    'hidden_layer_sizes': [(50,), (100,), (50, 50), (100, 50), (50, 50, 50)],\n",
    "    'activation': ['relu', 'tanh', 'logistic'],\n",
    "    'solver': ['adam', 'sgd', 'lbfgs'],\n",
    "    'alpha': [0.0001, 0.001, 0.01],\n",
    "    'learning_rate': ['constant', 'adaptive']\n",
    "}"
   ]
  },
  {
   "cell_type": "code",
   "execution_count": 53,
   "id": "6585443a-e840-42f4-bce5-c3550e3cdfd8",
   "metadata": {},
   "outputs": [
    {
     "name": "stdout",
     "output_type": "stream",
     "text": [
      "Fitting 3 folds for each of 10 candidates, totalling 30 fits\n"
     ]
    },
    {
     "data": {
      "text/html": [
       "<style>#sk-container-id-5 {color: black;background-color: white;}#sk-container-id-5 pre{padding: 0;}#sk-container-id-5 div.sk-toggleable {background-color: white;}#sk-container-id-5 label.sk-toggleable__label {cursor: pointer;display: block;width: 100%;margin-bottom: 0;padding: 0.3em;box-sizing: border-box;text-align: center;}#sk-container-id-5 label.sk-toggleable__label-arrow:before {content: \"▸\";float: left;margin-right: 0.25em;color: #696969;}#sk-container-id-5 label.sk-toggleable__label-arrow:hover:before {color: black;}#sk-container-id-5 div.sk-estimator:hover label.sk-toggleable__label-arrow:before {color: black;}#sk-container-id-5 div.sk-toggleable__content {max-height: 0;max-width: 0;overflow: hidden;text-align: left;background-color: #f0f8ff;}#sk-container-id-5 div.sk-toggleable__content pre {margin: 0.2em;color: black;border-radius: 0.25em;background-color: #f0f8ff;}#sk-container-id-5 input.sk-toggleable__control:checked~div.sk-toggleable__content {max-height: 200px;max-width: 100%;overflow: auto;}#sk-container-id-5 input.sk-toggleable__control:checked~label.sk-toggleable__label-arrow:before {content: \"▾\";}#sk-container-id-5 div.sk-estimator input.sk-toggleable__control:checked~label.sk-toggleable__label {background-color: #d4ebff;}#sk-container-id-5 div.sk-label input.sk-toggleable__control:checked~label.sk-toggleable__label {background-color: #d4ebff;}#sk-container-id-5 input.sk-hidden--visually {border: 0;clip: rect(1px 1px 1px 1px);clip: rect(1px, 1px, 1px, 1px);height: 1px;margin: -1px;overflow: hidden;padding: 0;position: absolute;width: 1px;}#sk-container-id-5 div.sk-estimator {font-family: monospace;background-color: #f0f8ff;border: 1px dotted black;border-radius: 0.25em;box-sizing: border-box;margin-bottom: 0.5em;}#sk-container-id-5 div.sk-estimator:hover {background-color: #d4ebff;}#sk-container-id-5 div.sk-parallel-item::after {content: \"\";width: 100%;border-bottom: 1px solid gray;flex-grow: 1;}#sk-container-id-5 div.sk-label:hover label.sk-toggleable__label {background-color: #d4ebff;}#sk-container-id-5 div.sk-serial::before {content: \"\";position: absolute;border-left: 1px solid gray;box-sizing: border-box;top: 0;bottom: 0;left: 50%;z-index: 0;}#sk-container-id-5 div.sk-serial {display: flex;flex-direction: column;align-items: center;background-color: white;padding-right: 0.2em;padding-left: 0.2em;position: relative;}#sk-container-id-5 div.sk-item {position: relative;z-index: 1;}#sk-container-id-5 div.sk-parallel {display: flex;align-items: stretch;justify-content: center;background-color: white;position: relative;}#sk-container-id-5 div.sk-item::before, #sk-container-id-5 div.sk-parallel-item::before {content: \"\";position: absolute;border-left: 1px solid gray;box-sizing: border-box;top: 0;bottom: 0;left: 50%;z-index: -1;}#sk-container-id-5 div.sk-parallel-item {display: flex;flex-direction: column;z-index: 1;position: relative;background-color: white;}#sk-container-id-5 div.sk-parallel-item:first-child::after {align-self: flex-end;width: 50%;}#sk-container-id-5 div.sk-parallel-item:last-child::after {align-self: flex-start;width: 50%;}#sk-container-id-5 div.sk-parallel-item:only-child::after {width: 0;}#sk-container-id-5 div.sk-dashed-wrapped {border: 1px dashed gray;margin: 0 0.4em 0.5em 0.4em;box-sizing: border-box;padding-bottom: 0.4em;background-color: white;}#sk-container-id-5 div.sk-label label {font-family: monospace;font-weight: bold;display: inline-block;line-height: 1.2em;}#sk-container-id-5 div.sk-label-container {text-align: center;}#sk-container-id-5 div.sk-container {/* jupyter's `normalize.less` sets `[hidden] { display: none; }` but bootstrap.min.css set `[hidden] { display: none !important; }` so we also need the `!important` here to be able to override the default hidden behavior on the sphinx rendered scikit-learn.org. See: https://github.com/scikit-learn/scikit-learn/issues/21755 */display: inline-block !important;position: relative;}#sk-container-id-5 div.sk-text-repr-fallback {display: none;}</style><div id=\"sk-container-id-5\" class=\"sk-top-container\"><div class=\"sk-text-repr-fallback\"><pre>RandomizedSearchCV(cv=3, estimator=MLPClassifier(max_iter=500), n_jobs=-1,\n",
       "                   param_distributions={&#x27;activation&#x27;: [&#x27;relu&#x27;, &#x27;tanh&#x27;,\n",
       "                                                       &#x27;logistic&#x27;],\n",
       "                                        &#x27;alpha&#x27;: [0.0001, 0.001, 0.01],\n",
       "                                        &#x27;hidden_layer_sizes&#x27;: [(50,), (100,),\n",
       "                                                               (50, 50),\n",
       "                                                               (100, 50),\n",
       "                                                               (50, 50, 50)],\n",
       "                                        &#x27;learning_rate&#x27;: [&#x27;constant&#x27;,\n",
       "                                                          &#x27;adaptive&#x27;],\n",
       "                                        &#x27;solver&#x27;: [&#x27;adam&#x27;, &#x27;sgd&#x27;, &#x27;lbfgs&#x27;]},\n",
       "                   scoring=&#x27;accuracy&#x27;, verbose=2)</pre><b>In a Jupyter environment, please rerun this cell to show the HTML representation or trust the notebook. <br />On GitHub, the HTML representation is unable to render, please try loading this page with nbviewer.org.</b></div><div class=\"sk-container\" hidden><div class=\"sk-item sk-dashed-wrapped\"><div class=\"sk-label-container\"><div class=\"sk-label sk-toggleable\"><input class=\"sk-toggleable__control sk-hidden--visually\" id=\"sk-estimator-id-13\" type=\"checkbox\" ><label for=\"sk-estimator-id-13\" class=\"sk-toggleable__label sk-toggleable__label-arrow\">RandomizedSearchCV</label><div class=\"sk-toggleable__content\"><pre>RandomizedSearchCV(cv=3, estimator=MLPClassifier(max_iter=500), n_jobs=-1,\n",
       "                   param_distributions={&#x27;activation&#x27;: [&#x27;relu&#x27;, &#x27;tanh&#x27;,\n",
       "                                                       &#x27;logistic&#x27;],\n",
       "                                        &#x27;alpha&#x27;: [0.0001, 0.001, 0.01],\n",
       "                                        &#x27;hidden_layer_sizes&#x27;: [(50,), (100,),\n",
       "                                                               (50, 50),\n",
       "                                                               (100, 50),\n",
       "                                                               (50, 50, 50)],\n",
       "                                        &#x27;learning_rate&#x27;: [&#x27;constant&#x27;,\n",
       "                                                          &#x27;adaptive&#x27;],\n",
       "                                        &#x27;solver&#x27;: [&#x27;adam&#x27;, &#x27;sgd&#x27;, &#x27;lbfgs&#x27;]},\n",
       "                   scoring=&#x27;accuracy&#x27;, verbose=2)</pre></div></div></div><div class=\"sk-parallel\"><div class=\"sk-parallel-item\"><div class=\"sk-item\"><div class=\"sk-label-container\"><div class=\"sk-label sk-toggleable\"><input class=\"sk-toggleable__control sk-hidden--visually\" id=\"sk-estimator-id-14\" type=\"checkbox\" ><label for=\"sk-estimator-id-14\" class=\"sk-toggleable__label sk-toggleable__label-arrow\">estimator: MLPClassifier</label><div class=\"sk-toggleable__content\"><pre>MLPClassifier(max_iter=500)</pre></div></div></div><div class=\"sk-serial\"><div class=\"sk-item\"><div class=\"sk-estimator sk-toggleable\"><input class=\"sk-toggleable__control sk-hidden--visually\" id=\"sk-estimator-id-15\" type=\"checkbox\" ><label for=\"sk-estimator-id-15\" class=\"sk-toggleable__label sk-toggleable__label-arrow\">MLPClassifier</label><div class=\"sk-toggleable__content\"><pre>MLPClassifier(max_iter=500)</pre></div></div></div></div></div></div></div></div></div></div>"
      ],
      "text/plain": [
       "RandomizedSearchCV(cv=3, estimator=MLPClassifier(max_iter=500), n_jobs=-1,\n",
       "                   param_distributions={'activation': ['relu', 'tanh',\n",
       "                                                       'logistic'],\n",
       "                                        'alpha': [0.0001, 0.001, 0.01],\n",
       "                                        'hidden_layer_sizes': [(50,), (100,),\n",
       "                                                               (50, 50),\n",
       "                                                               (100, 50),\n",
       "                                                               (50, 50, 50)],\n",
       "                                        'learning_rate': ['constant',\n",
       "                                                          'adaptive'],\n",
       "                                        'solver': ['adam', 'sgd', 'lbfgs']},\n",
       "                   scoring='accuracy', verbose=2)"
      ]
     },
     "execution_count": 53,
     "metadata": {},
     "output_type": "execute_result"
    }
   ],
   "source": [
    "ann_cv= RandomizedSearchCV(ANN_hpt_model, param_grid, cv=3, scoring='accuracy', n_jobs=-1, verbose=2)\n",
    "ann_cv.fit(x_train_smote, y_train_smote)\n"
   ]
  },
  {
   "cell_type": "code",
   "execution_count": 54,
   "id": "516f4e3e-393a-4670-a922-64fe2cb5fe49",
   "metadata": {},
   "outputs": [
    {
     "name": "stdout",
     "output_type": "stream",
     "text": [
      "Best Parameters: {'solver': 'lbfgs', 'learning_rate': 'adaptive', 'hidden_layer_sizes': (100,), 'alpha': 0.01, 'activation': 'tanh'}\n"
     ]
    }
   ],
   "source": [
    "#getting a best parameter\n",
    "print(f'Best Parameters: {ann_cv.best_params_}')"
   ]
  },
  {
   "cell_type": "code",
   "execution_count": 55,
   "id": "2e8560af-b42f-4d74-b6e1-72e6398dee7f",
   "metadata": {},
   "outputs": [
    {
     "name": "stdout",
     "output_type": "stream",
     "text": [
      "Test Accuracy: 0.8333333333333334\n"
     ]
    }
   ],
   "source": [
    "# fitting the data\n",
    "best_ann_model = ann_cv.best_estimator_\n",
    "ann_hp_pred = best_svc.predict(x_test)\n",
    "\n",
    "# Evaluating the model's performance\n",
    "ann_hp_accuracy = accuracy_score(y_test, ann_hp_pred)\n",
    "print(f\"Test Accuracy: {ann_hp_accuracy}\")"
   ]
  },
  {
   "cell_type": "code",
   "execution_count": 56,
   "id": "9b765a98-9905-4d19-bc80-0f8154de25df",
   "metadata": {},
   "outputs": [
    {
     "name": "stdout",
     "output_type": "stream",
     "text": [
      "              precision    recall  f1-score   support\n",
      "\n",
      "           2       0.65      0.59      0.62        29\n",
      "           3       0.88      0.91      0.90       184\n",
      "           4       0.62      0.56      0.59        27\n",
      "\n",
      "    accuracy                           0.83       240\n",
      "   macro avg       0.72      0.68      0.70       240\n",
      "weighted avg       0.83      0.83      0.83       240\n",
      "\n"
     ]
    }
   ],
   "source": [
    "print(classification_report(y_test,ann_hp_pred))"
   ]
  },
  {
   "cell_type": "code",
   "execution_count": 57,
   "id": "adf80e22-824a-4c9a-9bf6-19d2955f680b",
   "metadata": {},
   "outputs": [
    {
     "data": {
      "text/plain": [
       "<Axes: >"
      ]
     },
     "execution_count": 57,
     "metadata": {},
     "output_type": "execute_result"
    },
    {
     "data": {
      "image/png": "[encoded data removed]",
      "text/plain": [
       "<Figure size 800x550 with 2 Axes>"
      ]
     },
     "metadata": {},
     "output_type": "display_data"
    }
   ],
   "source": [
    "ann_cm=confusion_matrix(y_test,ann_hp_pred)\n",
    "sns.heatmap(ann_cm,annot=True,fmt='g')"
   ]
  },
  {
   "cell_type": "markdown",
   "id": "8d07f4b9-b961-4c60-8e83-7d838c76a841",
   "metadata": {},
   "source": [
    "### 6.(Receiver Operating Characteristic - Area Under Curve) ROC-AUC SCORE FOR BEST MODEL"
   ]
  },
  {
   "cell_type": "code",
   "execution_count": 58,
   "id": "79d72a9d-8982-47c9-9f06-a5e778ece16e",
   "metadata": {},
   "outputs": [
    {
     "name": "stdout",
     "output_type": "stream",
     "text": [
      "ROC-AUC Score for RandomForestClassifier: 0.9491\n"
     ]
    }
   ],
   "source": [
    "rf_model = RandomForestClassifier()\n",
    "rf_model.fit(x_train_smote, y_train_smote)\n",
    "y_probs = rf_model.predict_proba(x_test) \n",
    "roc_auc = roc_auc_score(y_test, y_probs,multi_class='ovr')\n",
    "print(f\"ROC-AUC Score for RandomForestClassifier: {roc_auc:.4f}\")"
   ]
  },
  {
   "cell_type": "code",
   "execution_count": 59,
   "id": "52a81a75-257c-4a7a-82c9-77e92d4a4281",
   "metadata": {},
   "outputs": [
    {
     "name": "stdout",
     "output_type": "stream",
     "text": [
      "ROC-AUC Score for Class 2: 0.9925641444680503\n",
      "ROC-AUC Score for Class 3: 0.9417701863354038\n",
      "ROC-AUC Score for Class 4: 0.9300121717962093\n",
      "\n",
      "Macro-Average ROC-AUC Score: 0.9547821675332212\n",
      "Micro-Average ROC-AUC Score: 0.9812586805555555\n"
     ]
    }
   ],
   "source": [
    "rf_model = RandomForestClassifier()\n",
    "rf_model.fit(x_train_smote, y_train_smote)\n",
    "y_probs = rf_model.predict_proba(x_test)\n",
    "\n",
    "roc_auc_per_class = {}\n",
    "for i, class_label in enumerate(rf_model.classes_):\n",
    "    roc_auc_per_class[class_label] = roc_auc_score((y_test == class_label).astype(int), y_probs[:, i])\n",
    "\n",
    "for class_label, auc_score in roc_auc_per_class.items():\n",
    "    print(f\"ROC-AUC Score for Class {class_label}: {auc_score}\")\n",
    "\n",
    "macro_avg_auc = roc_auc_score(y_test, y_probs, multi_class=\"ovr\", average=\"macro\")\n",
    "micro_avg_auc = roc_auc_score(y_test, y_probs, multi_class=\"ovr\", average=\"micro\")\n",
    "\n",
    "print(f\"\\nMacro-Average ROC-AUC Score: {macro_avg_auc}\")\n",
    "print(f\"Micro-Average ROC-AUC Score: {micro_avg_auc}\")"
   ]
  },
  {
   "cell_type": "markdown",
   "id": "42ce31ab-5dea-4576-b734-9b1d6f4dfae0",
   "metadata": {},
   "source": [
    "### 7.Model Comparison Report"
   ]
  },
  {
   "cell_type": "code",
   "execution_count": 76,
   "id": "6189f99a-aabd-4eb9-9cea-3d58ce21f23c",
   "metadata": {},
   "outputs": [
    {
     "name": "stdout",
     "output_type": "stream",
     "text": [
      "                    Model  Accuracy\n",
      "0      LogisticRegression  0.729167\n",
      "1  DecisionTreeClassifier  0.891667\n",
      "2  RandomForestClassifier  0.920833\n",
      "3                     SVC  0.837500\n",
      "4                     KNN  0.662500\n",
      "5              NaiveBayes  0.708333\n",
      "6                     ANN  0.833333\n"
     ]
    }
   ],
   "source": [
    "comparison_dict = {'Model':['LogisticRegression','DecisionTreeClassifier','RandomForestClassifier','SVC','KNN','NaiveBayes','ANN'],\n",
    "                   'Accuracy':[log_accuracy,dec_hp_accuracy,RF_hp_accuracy,svc_hp_accuracy,KNN_hp_accuracy,NB_hp_accuracy,ann_hp_accuracy]\n",
    "                  }\n",
    "    \n",
    "\n",
    "# Creating DataFrame\n",
    "comparison_df = pd.DataFrame(comparison_dict)\n",
    "print(comparison_df)"
   ]
  },
  {
   "cell_type": "code",
   "execution_count": 77,
   "id": "cf947dae-49f6-4fe6-b425-50caca83bd60",
   "metadata": {},
   "outputs": [
    {
     "data": {
      "image/png": "[encoded data removed]",
      "text/plain": [
       "<Figure size 1500x500 with 1 Axes>"
      ]
     },
     "metadata": {},
     "output_type": "display_data"
    }
   ],
   "source": [
    "\n",
    "comparison_df = comparison_df.sort_values(by='Accuracy', ascending=True)\n",
    "max_index = comparison_df['Accuracy'].idxmax() \n",
    "plt.figure(figsize=(15, 5))\n",
    "sns.lineplot(data=comparison_df, x='Model', y='Accuracy', marker='o', color='blue', label=\"Model Performance\")\n",
    "plt.xlabel(\"Model Name\")\n",
    "plt.ylabel(\"Accuracy\")\n",
    "plt.legend()\n",
    "plt.title(\"Comparison of Model Performance (Accuracy_Score)\")\n",
    "plt.show()\n"
   ]
  },
  {
   "cell_type": "code",
   "execution_count": null,
   "id": "acd08f6c-c0a6-4330-9840-3994f0aeb4a5",
   "metadata": {},
   "outputs": [],
   "source": []
  }
 ],
 "metadata": {
  "kernelspec": {
   "display_name": "Python 3 (ipykernel)",
   "language": "python",
   "name": "python3"
  },
  "language_info": {
   "codemirror_mode": {
    "name": "ipython",
    "version": 3
   },
   "file_extension": ".py",
   "mimetype": "text/x-python",
   "name": "python",
   "nbconvert_exporter": "python",
   "pygments_lexer": "ipython3",
   "version": "3.11.7"
  }
 },
 "nbformat": 4,
 "nbformat_minor": 5
}
